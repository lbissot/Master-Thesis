{
 "cells": [
  {
   "cell_type": "code",
   "execution_count": 1,
   "metadata": {},
   "outputs": [
    {
     "name": "stderr",
     "output_type": "stream",
     "text": [
      "Failed to detect the name of this notebook, you can set it manually with the WANDB_NOTEBOOK_NAME environment variable to enable code saving.\n",
      "\u001b[34m\u001b[1mwandb\u001b[0m: Currently logged in as: \u001b[33mlbissot\u001b[0m (\u001b[33mhigh-contrast-imaging\u001b[0m). Use \u001b[1m`wandb login --relogin`\u001b[0m to force relogin\n"
     ]
    }
   ],
   "source": [
    "import pandas as pd\n",
    "import numpy as np\n",
    "import matplotlib.pyplot as plt\n",
    "import wandb\n",
    "from tqdm import tqdm\n",
    "\n",
    "wandb.login()\n",
    "\n",
    "# Load the data located in /Dataset_creation/df_AD.csv\n",
    "df_AD = pd.read_pickle('Dataset_creation/df_AD_timestamps.pkl')\n",
    "\n",
    "# Reset the index\n",
    "df_AD = df_AD.reset_index(drop=True)"
   ]
  },
  {
   "cell_type": "code",
   "execution_count": 2,
   "metadata": {},
   "outputs": [],
   "source": [
    "def reshape_dataframe(df, vec_column_name_list):\n",
    "    \"\"\"\n",
    "    Reshape a dataframe containing vectors in order to have one row per element of the vectors.\n",
    "    The metadata of the row is repeated for each element of the vectors.\n",
    "\n",
    "    Parameters\n",
    "    ----------\n",
    "    df : pandas.DataFrame\n",
    "        The dataframe to reshape\n",
    "    vec_column_name_list : list\n",
    "        The list of the columns containing vectors\n",
    "\n",
    "    Returns\n",
    "    -------\n",
    "    df_reshaped : pandas.DataFrame\n",
    "        The reshaped dataframe\n",
    "    \"\"\"\n",
    "\n",
    "    columns = df.columns\n",
    "    reshape_dataframe = {}\n",
    "\n",
    "    # Initialize the dictionary\n",
    "    for column in columns:\n",
    "        reshape_dataframe[column] = []\n",
    "\n",
    "    # Fill the dictionary\n",
    "    for index, row in df.iterrows():\n",
    "        # Create a dictionnary with only the metadata of the row, that is without the columns in vec_column_name_list\n",
    "        meta_dict = row.drop(vec_column_name_list).to_dict()\n",
    "\n",
    "        # Check whether the dimensions of the vectors are the same\n",
    "        for column in vec_column_name_list:\n",
    "            if len(row[column]) != len(row[vec_column_name_list[0]]):\n",
    "                raise ValueError(\"The dimensions of the vectors are not the same\")\n",
    "\n",
    "        for i in range(len(row[vec_column_name_list[0]])):\n",
    "            # Add the metadata to the dictionary\n",
    "            for key, value in meta_dict.items():\n",
    "                reshape_dataframe[key].append(value)\n",
    "\n",
    "            # Add the vector to the dictionary\n",
    "            for column in vec_column_name_list:\n",
    "                reshape_dataframe[column].append(row[column][i])\n",
    "\n",
    "    # Create a dataframe from the dictionary\n",
    "    df_reshaped = pd.DataFrame(reshape_dataframe)\n",
    "    return df_reshaped"
   ]
  },
  {
   "cell_type": "code",
   "execution_count": 3,
   "metadata": {},
   "outputs": [
    {
     "name": "stdout",
     "output_type": "stream",
     "text": [
      "Device : cpu\n"
     ]
    }
   ],
   "source": [
    "import torch\n",
    "import torch.nn as nn\n",
    "import torch.optim as optim\n",
    "# features_to_keep = ['ESO INS4 FILT3 NAME', 'ESO INS4 OPTI22 NAME', \\\n",
    "#     'ESO AOS VISWFS MODE', 'ESO TEL AMBI WINDSP', 'ESO TEL AMBI RHUM', \\\n",
    "#         'HIERARCH ESO INS4 TEMP422 VAL', 'HIERARCH ESO TEL TH M1 TEMP', 'HIERARCH ESO TEL AMBI TEMP', \\\n",
    "#             'ESO DET NDIT', 'ESO DET SEQ1 DIT', 'SIMBAD_FLUX_G', 'SIMBAD_FLUX_H', 'SEEING_MEDIAN', \\\n",
    "#                 'SEEING_STD', 'COHERENCE_TIME_MEDIAN', 'COHERENCE_TIME_STD']\n",
    "\n",
    "run_config = dict(\n",
    "    # Model\n",
    "    epochs = 1000,\n",
    "    learning_rate = 0.001,\n",
    "    batch_size = 32,\n",
    "    n_obs_train = 5,\n",
    "    loss_function = 'mse',\n",
    "    optimizer = 'adam',\n",
    "    architecture = 'MLP',\n",
    "    hidden_size = 10,\n",
    "    n_hidden_layers = 10,\n",
    "    scale = 'log',\n",
    "    \n",
    "    # Data\n",
    "    features_to_keep = ['SCFOVROT', 'SEPARATION', 'NSIGMA_CONTRAST'],\n",
    "    categorical_features = ['ESO INS4 FILT3 NAME', 'ESO INS4 OPTI22 NAME', 'ESO AOS VISWFS MODE'],\n",
    "    separation_size = 124,  \n",
    ")\n",
    "\n",
    "# Define the device\n",
    "device = torch.device('cuda' if torch.cuda.is_available() else 'cpu')\n",
    "print(\"Device : {}\".format(device))"
   ]
  },
  {
   "cell_type": "code",
   "execution_count": 4,
   "metadata": {},
   "outputs": [],
   "source": [
    "# Define the model\n",
    "class MLP(nn.Sequential):\n",
    "    def __init__(self, input_features, output_features, hidden_features, num_hidden_layers):\n",
    "        layers = []\n",
    "        layers.append(nn.Linear(input_features, hidden_features))\n",
    "        layers.append(nn.ReLU())\n",
    "        \n",
    "        for _ in range(num_hidden_layers - 1):\n",
    "            layers.append(nn.Linear(hidden_features, hidden_features))\n",
    "            layers.append(nn.ReLU())\n",
    "        \n",
    "        layers.append(nn.Linear(hidden_features, output_features))\n",
    "        \n",
    "        super().__init__(*layers)\n",
    "\n",
    "        self.initialize_weights()\n",
    "\n",
    "    # He initialization (since we are using ReLU activations)\n",
    "    def initialize_weights(self):\n",
    "        for layer in self:\n",
    "            if isinstance(layer, nn.Linear):\n",
    "                n_in = layer.in_features\n",
    "                # He initialization for ReLU activations\n",
    "                std_dev = np.sqrt(2 / n_in)\n",
    "                layer.weight.data.normal_(0, std_dev)\n",
    "                layer.bias.data.fill_(0)"
   ]
  },
  {
   "cell_type": "code",
   "execution_count": 5,
   "metadata": {},
   "outputs": [],
   "source": [
    "def model_pipeline(hyperparameters):\n",
    "\n",
    "    # tell wandb to get started\n",
    "    with wandb.init(project=\"master-thesis\", config=run_config):\n",
    "      # access all HPs through wandb.config, so logging matches execution!\n",
    "      config = wandb.config\n",
    "\n",
    "      # make the data\n",
    "      print(\"Making the data...\")\n",
    "      x_train_tensor, y_train_log_tensor, x_test_tensor, y_test_log_tensor = make_data(df_AD, config)\n",
    "\n",
    "      # make the model, data, and optimization problem\n",
    "      model, criterion, optimizer = make(config)\n",
    "      # print(model)\n",
    "\n",
    "      # and use them to train the model\n",
    "      print(\"Training the model...\")\n",
    "      train(model, x_train_tensor, y_train_log_tensor, criterion, optimizer, config)\n",
    "\n",
    "    return model, x_train_tensor, y_train_log_tensor, x_test_tensor, y_test_log_tensor"
   ]
  },
  {
   "cell_type": "code",
   "execution_count": 6,
   "metadata": {},
   "outputs": [],
   "source": [
    "from sklearn.impute import SimpleImputer\n",
    "from sklearn.preprocessing import StandardScaler\n",
    "\n",
    "def make_data(df_AD, config):\n",
    "\n",
    "    # Check whether df_AD contains 'SEPARATION' and 'NSIGMA_CONTRAST'\n",
    "    if 'SEPARATION' not in df_AD.columns:\n",
    "        raise ValueError(\"df_AD must contain the column 'SEPARATION'\")\n",
    "    if 'NSIGMA_CONTRAST' not in df_AD.columns:\n",
    "        raise ValueError(\"df_AD must contain the column 'NSIGMA_CONTRAST'\")\n",
    "\n",
    "    # The numerical features are the ones that are not categorical\n",
    "    numerical_features = list(set(config.features_to_keep) - set(config.categorical_features) - set(['SEPARATION', 'NSIGMA_CONTRAST']))\n",
    "\n",
    "    # Get a dataframe containing only the columns we want to keep\n",
    "    df_AD = df_AD[config.features_to_keep]\n",
    "\n",
    "    # Convert the strings to numbers in order to transform it into a tensor\n",
    "    # df_AD['ESO INS4 FILT3 NAME'] = pd.factorize(df_AD['ESO INS4 FILT3 NAME'])[0]\n",
    "    # df_AD['ESO INS4 OPTI22 NAME'] = pd.factorize(df_AD['ESO INS4 OPTI22 NAME'])[0]\n",
    "    # df_AD['ESO AOS VISWFS MODE'] = pd.factorize(df_AD['ESO AOS VISWFS MODE'])[0]\n",
    "\n",
    "    # Get values of separation between 0 and 1\n",
    "    separation = np.array(df_AD['SEPARATION'][0])\n",
    "    separation = separation / np.max(separation)\n",
    "\n",
    "    # Replace every separation vectors with the new one\n",
    "    df_AD['SEPARATION'] = df_AD['SEPARATION'].apply(lambda x: np.array(x) / np.max(x))\n",
    "\n",
    "    # Split the data into train and test sets\n",
    "    train = df_AD.sample(frac=0.8, random_state=0)\n",
    "    test = df_AD.drop(train.index)\n",
    "\n",
    "    # Transform the NaN values into the median of the column of the training set (only for the numerical features)\n",
    "    imp = SimpleImputer(strategy='median')\n",
    "    train[numerical_features] = imp.fit_transform(train[numerical_features])\n",
    "    test[numerical_features] = imp.transform(test[numerical_features])\n",
    "\n",
    "    # Reshape the dataframes (note that the reshape is done after the train/test split to avoid data leakage)\n",
    "    train = reshape_dataframe(train, ['SEPARATION', 'NSIGMA_CONTRAST'])\n",
    "    test = reshape_dataframe(test, ['SEPARATION', 'NSIGMA_CONTRAST'])\n",
    "\n",
    "    # Split the data into features and labels\n",
    "    x_train = train.drop(['NSIGMA_CONTRAST'], axis=1)\n",
    "    y_train = train['NSIGMA_CONTRAST']\n",
    "\n",
    "    x_test = test.drop(['NSIGMA_CONTRAST'], axis=1)\n",
    "    y_test = test['NSIGMA_CONTRAST']\n",
    "\n",
    "    # Standardize the data\n",
    "    scaler = StandardScaler()\n",
    "    x_train[numerical_features] = scaler.fit_transform(x_train[numerical_features])\n",
    "    x_test[numerical_features] = scaler.transform(x_test[numerical_features])\n",
    "\n",
    "    # Convert the dataframes to numpy arrays\n",
    "    x_train = x_train.values\n",
    "    y_train = np.array(y_train.tolist())\n",
    "    x_test = x_test.values\n",
    "    y_test = np.array(y_test.tolist())\n",
    "\n",
    "    # Get the number of points to keep\n",
    "    n_points = config.n_obs_train * len(separation)\n",
    "\n",
    "    # Convert the data to tensors\n",
    "    x_train_tensor = torch.tensor(x_train[:n_points], dtype=torch.float32)\n",
    "    y_train_tensor = torch.tensor(np.log10(y_train[:n_points]), dtype=torch.float32)\n",
    "    x_test_tensor = torch.tensor(x_test[:n_points], dtype=torch.float32)\n",
    "    y_test_tensor = torch.tensor(np.log10(y_test[:n_points]), dtype=torch.float32)\n",
    "\n",
    "    return x_train_tensor, y_train_tensor, x_test_tensor, y_test_tensor"
   ]
  },
  {
   "cell_type": "code",
   "execution_count": 7,
   "metadata": {},
   "outputs": [],
   "source": [
    "def make(config):\n",
    "\n",
    "    # Make the model\n",
    "    model = MLP(\n",
    "        input_features=len(config.features_to_keep) - 1, # Don't forget to remove the target feature\n",
    "        output_features=1,\n",
    "        hidden_features=config.hidden_size,\n",
    "        num_hidden_layers=config.n_hidden_layers\n",
    "        ).to(device)\n",
    "\n",
    "    # Define the loss function and the optimizer\n",
    "    criterion = nn.MSELoss()\n",
    "    optimizer = optim.Adam(model.parameters(), lr=config.learning_rate)\n",
    "    \n",
    "    return model, criterion, optimizer"
   ]
  },
  {
   "cell_type": "code",
   "execution_count": 8,
   "metadata": {},
   "outputs": [],
   "source": [
    "def shuffle(x, y, config):\n",
    "\n",
    "    x_shuffled = shuffle_sequences(x, config.separation_size) # Shuffle observations or batches ???\n",
    "    y_shuffled = shuffle_sequences(y, config.separation_size)\n",
    "\n",
    "    return x_shuffled, y_shuffled\n",
    "\n",
    "def shuffle_sequences(X, seq_length):\n",
    "    \"\"\"\n",
    "    Shuffle the order of the sequences of rows in matrix X.\n",
    "\n",
    "    Parameters\n",
    "    ----------\n",
    "    X : torch.Tensor\n",
    "        The matrix to shuffle\n",
    "    seq_length : int\n",
    "        The length of the sequences\n",
    "    \"\"\"\n",
    "\n",
    "    # Check whether X is a torch.Tensor\n",
    "    if not isinstance(X, torch.Tensor):\n",
    "        raise TypeError(\"X must be a torch.Tensor\")\n",
    "\n",
    "    if not X.shape[0] % seq_length == 0:\n",
    "        raise ValueError(\"The number of rows of X must be a multiple of seq_length\")\n",
    "    \n",
    "    seq_indices = torch.arange(0, X.shape[0], seq_length)\n",
    "    seq_indices = seq_indices[np.random.permutation(len(seq_indices))]\n",
    "\n",
    "    X_shuffled = torch.empty_like(X)\n",
    "    for i in range(len(seq_indices)):\n",
    "        X_shuffled[i*seq_length:(i+1)*seq_length] = X[seq_indices[i]:seq_indices[i]+seq_length]\n",
    "\n",
    "    return X_shuffled\n",
    "\n",
    "def train_log(loss, epoch, batch_ctr):\n",
    "    # Where the magic happens\n",
    "    wandb.log({\"epoch\": epoch, \"training loss\": loss}, step=batch_ctr)"
   ]
  },
  {
   "cell_type": "code",
   "execution_count": 9,
   "metadata": {},
   "outputs": [],
   "source": [
    "def train(model, x, y, criterion, optimizer, config):\n",
    "    # Tell wandb to watch what the model gets up to: gradients, weights, and more!\n",
    "    wandb.watch(model, criterion, log=\"all\", log_freq=10)\n",
    "\n",
    "    batch_ctr = 0\n",
    "\n",
    "    # Run training and track with wandb\n",
    "    for epoch in tqdm(range(config.epochs)):\n",
    "        # Shuffle the data\n",
    "        x_shuffled, y_shuffled = shuffle(x, y, config)\n",
    "        \n",
    "        for batch_start in range(0, len(x), config.batch_size):\n",
    "            # Get a batch\n",
    "            batch_end = batch_start + config.batch_size\n",
    "            x_batch = x_shuffled[batch_start:batch_end]\n",
    "            y_batch = y_shuffled[batch_start:batch_end]\n",
    "\n",
    "            # Train the model\n",
    "            loss = train_batch(x_batch, y_batch, model, optimizer, criterion)\n",
    "\n",
    "            # Increment the batch counter\n",
    "            batch_ctr += 1\n",
    "\n",
    "            # Log metrics\n",
    "            train_log(loss.item(), epoch, batch_ctr)\n",
    "\n",
    "\n",
    "def train_batch(x, y, model, optimizer, criterion):\n",
    "    x, y = x.to(device), y.to(device)\n",
    "    \n",
    "    # Forward pass\n",
    "    outputs = model(x)\n",
    "    loss = criterion(outputs, y.view(-1, 1))\n",
    "    \n",
    "    # Backward pass\n",
    "    optimizer.zero_grad()\n",
    "    loss.backward()\n",
    "\n",
    "    # Step with optimizer\n",
    "    optimizer.step()\n",
    "\n",
    "    return loss"
   ]
  },
  {
   "cell_type": "code",
   "execution_count": null,
   "metadata": {},
   "outputs": [],
   "source": [
    "def test(model, x, y, config):\n",
    "    model.eval()\n",
    "\n",
    "    # Run the model on some test examples\n",
    "    with torch.no_grad():\n",
    "        x, y = x.to(device), y.to(device)\n",
    "        outputs = model(x)\n",
    "        \n",
    "        # Get the numpy versions of the predictions and the targets\n",
    "        predictions = outputs.cpu().numpy()\n",
    "        targets = y.cpu().numpy()\n",
    "\n",
    "        mse = []\n",
    "        mae = []\n",
    "\n",
    "        # Calculate the mean squared and absolute errors for each observation\n",
    "        if config.reshape:\n",
    "            for i in tqdm(range(len(predictions) // separation_size)):\n",
    "                start = i * separation_size\n",
    "                stop = start + separation_size\n",
    "                mse.append(mean_squared_error(targets[start:stop], predictions[start:stop]))\n",
    "                # mae.append(mean_absolute_error(targets[start:stop], predictions[start:stop]))\n",
    "        else:\n",
    "            for i in tqdm(range(len(predictions))):\n",
    "                # print(targets[i])\n",
    "                # print(predictions[i])\n",
    "                \n",
    "                mse.append(mean_squared_error(targets[i], predictions[i]))\n",
    "                # mae.append(mean_absolute_error(targets[i], predictions[i]))\n",
    "\n",
    "        # Calculate the mean of the mean squared and absolute errors\n",
    "        mean_mse = np.mean(mse)\n",
    "        # mean_mae = np.mean(mae)\n",
    "        median_mse = np.median(mse)\n",
    "        # median_mae = np.median(mae)\n",
    "        \n",
    "        wandb.log({\"mean_MSE\": mean_mse, \"median_MSE\": median_mse})\n",
    "\n",
    "    # Save the model in the exchangeable ONNX format\n",
    "    # torch.onnx.export(model, y, \"model.onnx\")\n",
    "    # wandb.save(\"model.onnx\")"
   ]
  },
  {
   "cell_type": "code",
   "execution_count": 10,
   "metadata": {},
   "outputs": [],
   "source": [
    "def plot_predictions(model, X, y, idx):\n",
    "    separation = df_AD['SEPARATION'].iloc[idx]\n",
    "    \n",
    "    \n",
    "    start = idx * len(separation)\n",
    "    stop = start + len(separation)\n",
    "\n",
    "    prediction = model(X).detach().numpy()\n",
    "    prediction = prediction[start:stop]\n",
    "    contrast = y[start:stop].detach().numpy()\n",
    "    separation = X[start:stop, 1].detach().numpy()\n",
    "\n",
    "    plt.plot(separation, contrast, color='blue', label='Actual')\n",
    "    plt.plot(separation, prediction, color='red', label='Predicted')\n",
    "    plt.xlabel('Separation (arcsec)')\n",
    "    plt.ylabel('Contrast (5-sigma)')\n",
    "    plt.legend()\n",
    "    plt.show()"
   ]
  },
  {
   "cell_type": "code",
   "execution_count": 11,
   "metadata": {},
   "outputs": [
    {
     "data": {
      "text/html": [
       "Tracking run with wandb version 0.15.9"
      ],
      "text/plain": [
       "<IPython.core.display.HTML object>"
      ]
     },
     "metadata": {},
     "output_type": "display_data"
    },
    {
     "data": {
      "text/html": [
       "Run data is saved locally in <code>/Users/ludo/Documents/TFE/Master-Thesis/wandb/run-20230905_154141-rs3x8jmi</code>"
      ],
      "text/plain": [
       "<IPython.core.display.HTML object>"
      ]
     },
     "metadata": {},
     "output_type": "display_data"
    },
    {
     "data": {
      "text/html": [
       "Syncing run <strong><a href='https://wandb.ai/high-contrast-imaging/master-thesis/runs/rs3x8jmi' target=\"_blank\">valiant-resonance-147</a></strong> to <a href='https://wandb.ai/high-contrast-imaging/master-thesis' target=\"_blank\">Weights & Biases</a> (<a href='https://wandb.me/run' target=\"_blank\">docs</a>)<br/>"
      ],
      "text/plain": [
       "<IPython.core.display.HTML object>"
      ]
     },
     "metadata": {},
     "output_type": "display_data"
    },
    {
     "data": {
      "text/html": [
       " View project at <a href='https://wandb.ai/high-contrast-imaging/master-thesis' target=\"_blank\">https://wandb.ai/high-contrast-imaging/master-thesis</a>"
      ],
      "text/plain": [
       "<IPython.core.display.HTML object>"
      ]
     },
     "metadata": {},
     "output_type": "display_data"
    },
    {
     "data": {
      "text/html": [
       " View run at <a href='https://wandb.ai/high-contrast-imaging/master-thesis/runs/rs3x8jmi' target=\"_blank\">https://wandb.ai/high-contrast-imaging/master-thesis/runs/rs3x8jmi</a>"
      ],
      "text/plain": [
       "<IPython.core.display.HTML object>"
      ]
     },
     "metadata": {},
     "output_type": "display_data"
    },
    {
     "name": "stdout",
     "output_type": "stream",
     "text": [
      "Making the data...\n"
     ]
    },
    {
     "name": "stderr",
     "output_type": "stream",
     "text": [
      "/var/folders/hg/lm1d81c953lc1dc85gc41jd00000gn/T/ipykernel_18395/3195809256.py:28: SettingWithCopyWarning: \n",
      "A value is trying to be set on a copy of a slice from a DataFrame.\n",
      "Try using .loc[row_indexer,col_indexer] = value instead\n",
      "\n",
      "See the caveats in the documentation: https://pandas.pydata.org/pandas-docs/stable/user_guide/indexing.html#returning-a-view-versus-a-copy\n",
      "  df_AD['SEPARATION'] = df_AD['SEPARATION'].apply(lambda x: np.array(x) / np.max(x))\n"
     ]
    },
    {
     "name": "stdout",
     "output_type": "stream",
     "text": [
      "x_train_tensor.shape = torch.Size([620, 2])\n",
      "y_train_log_tensor.shape = torch.Size([620])\n",
      "MLP(\n",
      "  (0): Linear(in_features=2, out_features=10, bias=True)\n",
      "  (1): ReLU()\n",
      "  (2): Linear(in_features=10, out_features=10, bias=True)\n",
      "  (3): ReLU()\n",
      "  (4): Linear(in_features=10, out_features=10, bias=True)\n",
      "  (5): ReLU()\n",
      "  (6): Linear(in_features=10, out_features=10, bias=True)\n",
      "  (7): ReLU()\n",
      "  (8): Linear(in_features=10, out_features=10, bias=True)\n",
      "  (9): ReLU()\n",
      "  (10): Linear(in_features=10, out_features=10, bias=True)\n",
      "  (11): ReLU()\n",
      "  (12): Linear(in_features=10, out_features=10, bias=True)\n",
      "  (13): ReLU()\n",
      "  (14): Linear(in_features=10, out_features=10, bias=True)\n",
      "  (15): ReLU()\n",
      "  (16): Linear(in_features=10, out_features=10, bias=True)\n",
      "  (17): ReLU()\n",
      "  (18): Linear(in_features=10, out_features=10, bias=True)\n",
      "  (19): ReLU()\n",
      "  (20): Linear(in_features=10, out_features=1, bias=True)\n",
      ")\n",
      "Training the model...\n"
     ]
    },
    {
     "name": "stderr",
     "output_type": "stream",
     "text": [
      "100%|██████████| 1000/1000 [00:21<00:00, 45.53it/s]"
     ]
    },
    {
     "name": "stdout",
     "output_type": "stream",
     "text": [
      "Model trained!\n"
     ]
    },
    {
     "name": "stderr",
     "output_type": "stream",
     "text": [
      "\n"
     ]
    },
    {
     "data": {
      "text/html": [
       "Waiting for W&B process to finish... <strong style=\"color:green\">(success).</strong>"
      ],
      "text/plain": [
       "<IPython.core.display.HTML object>"
      ]
     },
     "metadata": {},
     "output_type": "display_data"
    },
    {
     "name": "stderr",
     "output_type": "stream",
     "text": [
      "wandb: WARNING Source type is set to 'repo' but some required information is missing from the environment. A job will not be created from this run. See https://docs.wandb.ai/guides/launch/create-job\n"
     ]
    },
    {
     "data": {
      "text/html": [
       "<style>\n",
       "    table.wandb td:nth-child(1) { padding: 0 10px; text-align: left ; width: auto;} td:nth-child(2) {text-align: left ; width: 100%}\n",
       "    .wandb-row { display: flex; flex-direction: row; flex-wrap: wrap; justify-content: flex-start; width: 100% }\n",
       "    .wandb-col { display: flex; flex-direction: column; flex-basis: 100%; flex: 1; padding: 10px; }\n",
       "    </style>\n",
       "<div class=\"wandb-row\"><div class=\"wandb-col\"><h3>Run history:</h3><br/><table class=\"wandb\"><tr><td>epoch</td><td>▁▁▁▁▂▂▂▂▂▃▃▃▃▃▃▄▄▄▄▄▅▅▅▅▅▅▆▆▆▆▆▇▇▇▇▇▇███</td></tr><tr><td>training loss</td><td>▂▃▁█▂█▁▁▃▂▁▁▂▃▂▇▁▁▂▁▅▃▁▁▂▅▁▁▂▁▃▁▁▁▂▁▂▁▁▂</td></tr></table><br/></div><div class=\"wandb-col\"><h3>Run summary:</h3><br/><table class=\"wandb\"><tr><td>epoch</td><td>999</td></tr><tr><td>training loss</td><td>0.02282</td></tr></table><br/></div></div>"
      ],
      "text/plain": [
       "<IPython.core.display.HTML object>"
      ]
     },
     "metadata": {},
     "output_type": "display_data"
    },
    {
     "data": {
      "text/html": [
       " View run <strong style=\"color:#cdcd00\">valiant-resonance-147</strong> at: <a href='https://wandb.ai/high-contrast-imaging/master-thesis/runs/rs3x8jmi' target=\"_blank\">https://wandb.ai/high-contrast-imaging/master-thesis/runs/rs3x8jmi</a><br/>Synced 5 W&B file(s), 0 media file(s), 0 artifact file(s) and 0 other file(s)"
      ],
      "text/plain": [
       "<IPython.core.display.HTML object>"
      ]
     },
     "metadata": {},
     "output_type": "display_data"
    },
    {
     "data": {
      "text/html": [
       "Find logs at: <code>./wandb/run-20230905_154141-rs3x8jmi/logs</code>"
      ],
      "text/plain": [
       "<IPython.core.display.HTML object>"
      ]
     },
     "metadata": {},
     "output_type": "display_data"
    }
   ],
   "source": [
    "# Build, train and analyze the model with the pipeline\n",
    "model, x_train_tensor, y_train_log_tensor, x_test_tensor, y_test_log_tensor = model_pipeline(run_config)"
   ]
  },
  {
   "cell_type": "code",
   "execution_count": 18,
   "metadata": {},
   "outputs": [
    {
     "data": {
      "image/png": "[encoded data removed]",
      "text/plain": [
       "<Figure size 640x480 with 1 Axes>"
      ]
     },
     "metadata": {},
     "output_type": "display_data"
    }
   ],
   "source": [
    "# Plot the predicted values vs the actual ones for one observation\n",
    "plot_predictions(model, x_train_tensor, y_train_log_tensor, 4)"
   ]
  }
 ],
 "metadata": {
  "kernelspec": {
   "display_name": "Python 3",
   "language": "python",
   "name": "python3"
  },
  "language_info": {
   "codemirror_mode": {
    "name": "ipython",
    "version": 3
   },
   "file_extension": ".py",
   "mimetype": "text/x-python",
   "name": "python",
   "nbconvert_exporter": "python",
   "pygments_lexer": "ipython3",
   "version": "3.11.3"
  },
  "orig_nbformat": 4
 },
 "nbformat": 4,
 "nbformat_minor": 2
}
