{
 "cells": [
  {
   "cell_type": "markdown",
   "metadata": {},
   "source": [
    "# Database creation\n",
    "This file is used to play with the data and once the objective is reached, functions will be written in .py files in order to be used by the model part of the project."
   ]
  },
  {
   "cell_type": "code",
   "execution_count": 22,
   "metadata": {},
   "outputs": [],
   "source": [
    "from astropy.io import fits\n",
    "from tabulate import tabulate\n",
    "# Retrieve the contrast curves from the database\n",
    "path_db = 'C:\\\\Users\\\\ludin\\\\Documents\\\\Master Thesis\\\\DB_creation\\\\SPHERE_DC_DATA\\\\'\n",
    "foldername = '2MASS J01543773+0043005_DB_H23_2014-10-07_ird_specal_dc_cADI_softsorting_200967\\\\'\n",
    "filename = 'ird_specal_dc-IRD_SPECAL_CONTRAST_CURVE_TABLE-contrast_curve_tab.fits'\n",
    "\n",
    "if not os.path.exists(path_db):\n",
    "    exit('ERROR! Folder {} does not exist.'.format(path_db)) # exit doesn't print anything in jupyter notebook\n",
    "\n",
    "if not os.path.exists(os.path.join(path_db, foldername)):\n",
    "    exit('ERROR! Folder {} does not exist.'.format(foldername))\n",
    "\n",
    "if not os.path.exists(os.path.join(path_db, foldername, filename)):\n",
    "    exit('ERROR! File {} does not exist.'.format(filename))"
   ]
  },
  {
   "cell_type": "code",
   "execution_count": 40,
   "metadata": {},
   "outputs": [],
   "source": [
    "def write_headers_in_file(fits_headers, file_path, filename='headers.txt', table_format='psql'):\n",
    "    \"\"\"\n",
    "    Write the headers in a readable format in a file.\n",
    "    \"\"\"\n",
    "\n",
    "    if not os.path.exists(path):\n",
    "        exit('ERROR! Folder {} does not exist.'.format(path))\n",
    "\n",
    "    table = []\n",
    "\n",
    "    with open(os.path.join(file_path, filename), 'w') as f:\n",
    "        for card in fits_headers.cards:\n",
    "            table.append([card.keyword, card.value, card.comment])\n",
    "            \n",
    "        f.write(tabulate(table, headers=['Keyword', 'Value', 'Comment'], tablefmt=table_format))"
   ]
  },
  {
   "cell_type": "code",
   "execution_count": 41,
   "metadata": {},
   "outputs": [
    {
     "name": "stdout",
     "output_type": "stream",
     "text": [
      "Filename: C:\\Users\\ludin\\Documents\\Master Thesis\\DB_creation\\SPHERE_DC_DATA\\2MASS J01543773+0043005_DB_H23_2014-10-07_ird_specal_dc_cADI_softsorting_200967\\ird_specal_dc-IRD_SPECAL_CONTRAST_CURVE_TABLE-contrast_curve_tab.fits\n",
      "No.    Name      Ver    Type      Cards   Dimensions   Format\n",
      "  0  PRIMARY       1 PrimaryHDU       4   ()      \n",
      "  1                1 BinTableHDU   1053   3R x 7C   [3A, 10A, 10A, 3A, 55A, 1148E, 1148E]   \n"
     ]
    }
   ],
   "source": [
    "with fits.open(os.path.join(path_db, foldername, filename)) as hdul:\n",
    "    hdul.info()\n",
    "\n",
    "    write_headers_in_file(hdul[1].header, os.path.join(path_db, foldername))"
   ]
  }
 ],
 "metadata": {
  "kernelspec": {
   "display_name": "Python 3.9.0 64-bit",
   "language": "python",
   "name": "python3"
  },
  "language_info": {
   "codemirror_mode": {
    "name": "ipython",
    "version": 3
   },
   "file_extension": ".py",
   "mimetype": "text/x-python",
   "name": "python",
   "nbconvert_exporter": "python",
   "pygments_lexer": "ipython3",
   "version": "3.9.0"
  },
  "orig_nbformat": 4,
  "vscode": {
   "interpreter": {
    "hash": "81794d4967e6c3204c66dcd87b604927b115b27c00565d3d43f05ba2f3a2cb0d"
   }
  }
 },
 "nbformat": 4,
 "nbformat_minor": 2
}
