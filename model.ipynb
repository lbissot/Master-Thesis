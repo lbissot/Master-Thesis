{
 "cells": [
  {
   "cell_type": "code",
   "execution_count": 43,
   "metadata": {},
   "outputs": [
    {
     "name": "stderr",
     "output_type": "stream",
     "text": [
      "\u001b[34m\u001b[1mwandb\u001b[0m: Logging into wandb.ai. (Learn how to deploy a W&B server locally: https://wandb.me/wandb-server)\n",
      "\u001b[34m\u001b[1mwandb\u001b[0m: You can find your API key in your browser here: https://wandb.ai/authorize\n",
      "\u001b[34m\u001b[1mwandb\u001b[0m: Paste an API key from your profile and hit enter, or press ctrl+c to quit:\u001b[34m\u001b[1mwandb\u001b[0m: Appending key for api.wandb.ai to your netrc file: /Users/ludo/.netrc\n"
     ]
    }
   ],
   "source": [
    "import pandas as pd\n",
    "import numpy as np\n",
    "import wandb\n",
    "wandb.login()\n",
    "\n",
    "# Load the data located in /Dataset_creation/df_AD.csv\n",
    "df_AD = pd.read_pickle('Dataset_creation/df_AD_timestamps.pkl')\n",
    "# Could be used to remove AttributeError: 'bool' object has no attribute 'any'\n",
    "# df_AD.replace(to_replace=pd.NA, value=None, inplace=True)\n",
    "# Reset the index\n",
    "df_AD = df_AD.reset_index(drop=True)\n",
    "\n",
    "# df_AD.head()"
   ]
  },
  {
   "cell_type": "code",
   "execution_count": 2,
   "metadata": {},
   "outputs": [
    {
     "name": "stdout",
     "output_type": "stream",
     "text": [
      "1.2.2\n"
     ]
    }
   ],
   "source": [
    "import sklearn\n",
    "\n",
    "print(sklearn.__version__)"
   ]
  },
  {
   "cell_type": "code",
   "execution_count": 24,
   "metadata": {},
   "outputs": [
    {
     "data": {
      "text/html": [
       "<div>\n",
       "<style scoped>\n",
       "    .dataframe tbody tr th:only-of-type {\n",
       "        vertical-align: middle;\n",
       "    }\n",
       "\n",
       "    .dataframe tbody tr th {\n",
       "        vertical-align: top;\n",
       "    }\n",
       "\n",
       "    .dataframe thead th {\n",
       "        text-align: right;\n",
       "    }\n",
       "</style>\n",
       "<table border=\"1\" class=\"dataframe\">\n",
       "  <thead>\n",
       "    <tr style=\"text-align: right;\">\n",
       "      <th></th>\n",
       "      <th>ESO INS4 FILT3 NAME</th>\n",
       "      <th>ESO INS4 OPTI22 NAME</th>\n",
       "      <th>ESO AOS VISWFS MODE</th>\n",
       "      <th>ESO TEL AMBI WINDSP</th>\n",
       "      <th>SCFOVROT</th>\n",
       "      <th>ESO TEL AMBI RHUM</th>\n",
       "      <th>HIERARCH ESO INS4 TEMP422 VAL</th>\n",
       "      <th>HIERARCH ESO TEL TH M1 TEMP</th>\n",
       "      <th>HIERARCH ESO TEL AMBI TEMP</th>\n",
       "      <th>ESO DET NDIT</th>\n",
       "      <th>ESO DET SEQ1 DIT</th>\n",
       "      <th>SIMBAD_FLUX_G</th>\n",
       "      <th>SIMBAD_FLUX_H</th>\n",
       "      <th>SEEING_MEDIAN</th>\n",
       "      <th>SEEING_STD</th>\n",
       "      <th>COHERENCE_TIME_MEDIAN</th>\n",
       "      <th>COHERENCE_TIME_STD</th>\n",
       "    </tr>\n",
       "  </thead>\n",
       "  <tbody>\n",
       "    <tr>\n",
       "      <th>count</th>\n",
       "      <td>843.000000</td>\n",
       "      <td>843.000000</td>\n",
       "      <td>843.000000</td>\n",
       "      <td>843.000000</td>\n",
       "      <td>843.000000</td>\n",
       "      <td>843.000000</td>\n",
       "      <td>834.000000</td>\n",
       "      <td>843.000000</td>\n",
       "      <td>843.000000</td>\n",
       "      <td>843.000000</td>\n",
       "      <td>843.000000</td>\n",
       "      <td>833.000000</td>\n",
       "      <td>807.000000</td>\n",
       "      <td>745.000000</td>\n",
       "      <td>745.000000</td>\n",
       "      <td>745.000000</td>\n",
       "      <td>743.000000</td>\n",
       "    </tr>\n",
       "    <tr>\n",
       "      <th>mean</th>\n",
       "      <td>0.820878</td>\n",
       "      <td>0.778173</td>\n",
       "      <td>2.575326</td>\n",
       "      <td>6.139632</td>\n",
       "      <td>30.398393</td>\n",
       "      <td>11.806050</td>\n",
       "      <td>14.618345</td>\n",
       "      <td>11.958956</td>\n",
       "      <td>13.343037</td>\n",
       "      <td>9.868327</td>\n",
       "      <td>39.516710</td>\n",
       "      <td>8.104576</td>\n",
       "      <td>6.492323</td>\n",
       "      <td>0.988319</td>\n",
       "      <td>0.129866</td>\n",
       "      <td>0.004116</td>\n",
       "      <td>0.000642</td>\n",
       "    </tr>\n",
       "    <tr>\n",
       "      <th>std</th>\n",
       "      <td>0.981995</td>\n",
       "      <td>0.719196</td>\n",
       "      <td>1.778055</td>\n",
       "      <td>3.727800</td>\n",
       "      <td>28.670754</td>\n",
       "      <td>9.220288</td>\n",
       "      <td>1.872666</td>\n",
       "      <td>2.068456</td>\n",
       "      <td>2.609030</td>\n",
       "      <td>14.634274</td>\n",
       "      <td>26.860949</td>\n",
       "      <td>2.311218</td>\n",
       "      <td>1.613972</td>\n",
       "      <td>0.354757</td>\n",
       "      <td>0.094224</td>\n",
       "      <td>0.003633</td>\n",
       "      <td>0.000872</td>\n",
       "    </tr>\n",
       "    <tr>\n",
       "      <th>min</th>\n",
       "      <td>0.000000</td>\n",
       "      <td>0.000000</td>\n",
       "      <td>0.000000</td>\n",
       "      <td>0.130000</td>\n",
       "      <td>0.015907</td>\n",
       "      <td>3.000000</td>\n",
       "      <td>8.100000</td>\n",
       "      <td>4.490000</td>\n",
       "      <td>2.480000</td>\n",
       "      <td>1.000000</td>\n",
       "      <td>0.837464</td>\n",
       "      <td>2.722356</td>\n",
       "      <td>1.570000</td>\n",
       "      <td>0.360000</td>\n",
       "      <td>0.005774</td>\n",
       "      <td>0.000650</td>\n",
       "      <td>0.000023</td>\n",
       "    </tr>\n",
       "    <tr>\n",
       "      <th>25%</th>\n",
       "      <td>0.000000</td>\n",
       "      <td>0.000000</td>\n",
       "      <td>1.000000</td>\n",
       "      <td>3.200000</td>\n",
       "      <td>10.939000</td>\n",
       "      <td>5.500000</td>\n",
       "      <td>13.400000</td>\n",
       "      <td>10.635000</td>\n",
       "      <td>11.705000</td>\n",
       "      <td>3.000000</td>\n",
       "      <td>16.000000</td>\n",
       "      <td>6.425900</td>\n",
       "      <td>5.482000</td>\n",
       "      <td>0.720000</td>\n",
       "      <td>0.071488</td>\n",
       "      <td>0.001985</td>\n",
       "      <td>0.000210</td>\n",
       "    </tr>\n",
       "    <tr>\n",
       "      <th>50%</th>\n",
       "      <td>0.000000</td>\n",
       "      <td>1.000000</td>\n",
       "      <td>3.000000</td>\n",
       "      <td>5.650000</td>\n",
       "      <td>25.156200</td>\n",
       "      <td>8.500000</td>\n",
       "      <td>15.000000</td>\n",
       "      <td>12.350000</td>\n",
       "      <td>13.530000</td>\n",
       "      <td>4.000000</td>\n",
       "      <td>32.000000</td>\n",
       "      <td>8.124182</td>\n",
       "      <td>6.695000</td>\n",
       "      <td>0.945000</td>\n",
       "      <td>0.104393</td>\n",
       "      <td>0.002924</td>\n",
       "      <td>0.000356</td>\n",
       "    </tr>\n",
       "    <tr>\n",
       "      <th>75%</th>\n",
       "      <td>2.000000</td>\n",
       "      <td>1.000000</td>\n",
       "      <td>4.000000</td>\n",
       "      <td>8.490000</td>\n",
       "      <td>38.160700</td>\n",
       "      <td>14.000000</td>\n",
       "      <td>16.000000</td>\n",
       "      <td>13.480000</td>\n",
       "      <td>15.300000</td>\n",
       "      <td>13.000000</td>\n",
       "      <td>64.000000</td>\n",
       "      <td>9.496839</td>\n",
       "      <td>7.636000</td>\n",
       "      <td>1.170000</td>\n",
       "      <td>0.158299</td>\n",
       "      <td>0.005029</td>\n",
       "      <td>0.000722</td>\n",
       "    </tr>\n",
       "    <tr>\n",
       "      <th>max</th>\n",
       "      <td>2.000000</td>\n",
       "      <td>3.000000</td>\n",
       "      <td>7.000000</td>\n",
       "      <td>19.880000</td>\n",
       "      <td>179.799000</td>\n",
       "      <td>56.500000</td>\n",
       "      <td>17.700000</td>\n",
       "      <td>16.260000</td>\n",
       "      <td>18.840000</td>\n",
       "      <td>184.000000</td>\n",
       "      <td>96.000000</td>\n",
       "      <td>14.850173</td>\n",
       "      <td>10.900000</td>\n",
       "      <td>2.875000</td>\n",
       "      <td>0.942375</td>\n",
       "      <td>0.032767</td>\n",
       "      <td>0.007083</td>\n",
       "    </tr>\n",
       "  </tbody>\n",
       "</table>\n",
       "</div>"
      ],
      "text/plain": [
       "       ESO INS4 FILT3 NAME  ESO INS4 OPTI22 NAME  ESO AOS VISWFS MODE   \n",
       "count           843.000000            843.000000           843.000000  \\\n",
       "mean              0.820878              0.778173             2.575326   \n",
       "std               0.981995              0.719196             1.778055   \n",
       "min               0.000000              0.000000             0.000000   \n",
       "25%               0.000000              0.000000             1.000000   \n",
       "50%               0.000000              1.000000             3.000000   \n",
       "75%               2.000000              1.000000             4.000000   \n",
       "max               2.000000              3.000000             7.000000   \n",
       "\n",
       "       ESO TEL AMBI WINDSP    SCFOVROT  ESO TEL AMBI RHUM   \n",
       "count           843.000000  843.000000         843.000000  \\\n",
       "mean              6.139632   30.398393          11.806050   \n",
       "std               3.727800   28.670754           9.220288   \n",
       "min               0.130000    0.015907           3.000000   \n",
       "25%               3.200000   10.939000           5.500000   \n",
       "50%               5.650000   25.156200           8.500000   \n",
       "75%               8.490000   38.160700          14.000000   \n",
       "max              19.880000  179.799000          56.500000   \n",
       "\n",
       "       HIERARCH ESO INS4 TEMP422 VAL  HIERARCH ESO TEL TH M1 TEMP   \n",
       "count                     834.000000                   843.000000  \\\n",
       "mean                       14.618345                    11.958956   \n",
       "std                         1.872666                     2.068456   \n",
       "min                         8.100000                     4.490000   \n",
       "25%                        13.400000                    10.635000   \n",
       "50%                        15.000000                    12.350000   \n",
       "75%                        16.000000                    13.480000   \n",
       "max                        17.700000                    16.260000   \n",
       "\n",
       "       HIERARCH ESO TEL AMBI TEMP  ESO DET NDIT  ESO DET SEQ1 DIT   \n",
       "count                  843.000000    843.000000        843.000000  \\\n",
       "mean                    13.343037      9.868327         39.516710   \n",
       "std                      2.609030     14.634274         26.860949   \n",
       "min                      2.480000      1.000000          0.837464   \n",
       "25%                     11.705000      3.000000         16.000000   \n",
       "50%                     13.530000      4.000000         32.000000   \n",
       "75%                     15.300000     13.000000         64.000000   \n",
       "max                     18.840000    184.000000         96.000000   \n",
       "\n",
       "       SIMBAD_FLUX_G  SIMBAD_FLUX_H  SEEING_MEDIAN  SEEING_STD   \n",
       "count     833.000000     807.000000     745.000000  745.000000  \\\n",
       "mean        8.104576       6.492323       0.988319    0.129866   \n",
       "std         2.311218       1.613972       0.354757    0.094224   \n",
       "min         2.722356       1.570000       0.360000    0.005774   \n",
       "25%         6.425900       5.482000       0.720000    0.071488   \n",
       "50%         8.124182       6.695000       0.945000    0.104393   \n",
       "75%         9.496839       7.636000       1.170000    0.158299   \n",
       "max        14.850173      10.900000       2.875000    0.942375   \n",
       "\n",
       "       COHERENCE_TIME_MEDIAN  COHERENCE_TIME_STD  \n",
       "count             745.000000          743.000000  \n",
       "mean                0.004116            0.000642  \n",
       "std                 0.003633            0.000872  \n",
       "min                 0.000650            0.000023  \n",
       "25%                 0.001985            0.000210  \n",
       "50%                 0.002924            0.000356  \n",
       "75%                 0.005029            0.000722  \n",
       "max                 0.032767            0.007083  "
      ]
     },
     "execution_count": 24,
     "metadata": {},
     "output_type": "execute_result"
    }
   ],
   "source": [
    "columns_to_keep = ['ESO INS4 FILT3 NAME', 'ESO INS4 OPTI22 NAME', \\\n",
    "    'ESO AOS VISWFS MODE', 'ESO TEL AMBI WINDSP', 'SCFOVROT', 'ESO TEL AMBI RHUM', \\\n",
    "        'HIERARCH ESO INS4 TEMP422 VAL', 'HIERARCH ESO TEL TH M1 TEMP', 'HIERARCH ESO TEL AMBI TEMP', \\\n",
    "            'ESO DET NDIT', 'ESO DET SEQ1 DIT', 'SIMBAD_FLUX_G', 'SIMBAD_FLUX_H', 'SEEING_MEDIAN', \\\n",
    "                'SEEING_STD', 'COHERENCE_TIME_MEDIAN', 'COHERENCE_TIME_STD', 'SEPARATION', 'NSIGMA_CONTRAST']\n",
    "\n",
    "                # 'EFF_NFRA', 'EFF_ETIM', 'SR_AVG' are not included due to the high number of NaN values\n",
    "                # 'SC MODE' is not included because it is 0 for all the rows\n",
    "\n",
    "# Get a dataframe containing only the columns we want to keep\n",
    "df_AD = df_AD[columns_to_keep]\n",
    "\n",
    "# Convert the strings to numbers in order to transform it into a tensor\n",
    "df_AD['ESO INS4 FILT3 NAME'] = pd.factorize(df_AD['ESO INS4 FILT3 NAME'])[0]\n",
    "df_AD['ESO INS4 OPTI22 NAME'] = pd.factorize(df_AD['ESO INS4 OPTI22 NAME'])[0]\n",
    "df_AD['ESO AOS VISWFS MODE'] = pd.factorize(df_AD['ESO AOS VISWFS MODE'])[0]\n",
    "# df_AD['SC MODE'] = pd.factorize(df_AD['SC MODE'])[0]\n",
    "\n",
    "# Convert the columns 'SEPARATION' and 'NSIGMA_CONTRAST' to numpy arrays\n",
    "separation = np.array(df_AD['SEPARATION'])\n",
    "nsigma_contrast = np.array(df_AD['NSIGMA_CONTRAST'])\n",
    "\n",
    "df_AD.describe()\n"
   ]
  },
  {
   "attachments": {},
   "cell_type": "markdown",
   "metadata": {},
   "source": [
    "As we can see for some features the count value is lower than the number of observations indicating missing values."
   ]
  },
  {
   "cell_type": "code",
   "execution_count": 4,
   "metadata": {},
   "outputs": [
    {
     "data": {
      "text/plain": [
       "True"
      ]
     },
     "execution_count": 4,
     "metadata": {},
     "output_type": "execute_result"
    }
   ],
   "source": [
    "import webbrowser\n",
    "\n",
    "with open('table.html', 'w') as f:\n",
    "    # f.write(tabulate(test_df, headers='keys', tablefmt='html'))\n",
    "    f.write(df_AD.drop(['SEPARATION', 'NSIGMA_CONTRAST'], axis=1).to_html())\n",
    "\n",
    "webbrowser.open('table.html')"
   ]
  },
  {
   "cell_type": "code",
   "execution_count": 25,
   "metadata": {},
   "outputs": [
    {
     "name": "stdout",
     "output_type": "stream",
     "text": [
      "x shape : (843, 17)\n",
      "X contains NaN : False\n",
      "X contains pd.NA : False\n",
      "X contains None : False\n",
      "y shape : (843, 124)\n",
      "y data type : float64\n",
      "Learning set size : 674, test set size : 169\n"
     ]
    }
   ],
   "source": [
    "from sklearn.model_selection import train_test_split, GridSearchCV\n",
    "from sklearn.ensemble import RandomForestRegressor\n",
    "from sklearn.metrics import mean_squared_error, r2_score\n",
    "from sklearn.impute import SimpleImputer\n",
    "\n",
    "x = df_AD.drop(['SEPARATION', 'NSIGMA_CONTRAST'], axis=1).values\n",
    "print(\"x shape : {}\".format(x.shape))\n",
    "# Transform the NaN values into the median of the column\n",
    "imp = SimpleImputer(strategy='median')\n",
    "x = imp.fit_transform(x)\n",
    "\n",
    "# Check whether there are still NaN, pd.NA or None values \n",
    "print(\"X contains NaN : {}\".format(np.isnan(x).any()))\n",
    "print(\"X contains pd.NA : {}\".format(pd.isna(x).any()))\n",
    "print(\"X contains None : {}\".format(None in x))\n",
    "\n",
    "y = np.array(df_AD['NSIGMA_CONTRAST'].tolist())\n",
    "print(\"y shape : {}\".format(y.shape))\n",
    "print(\"y data type : {}\".format(y.dtype))\n",
    "\n",
    "x_train, x_test, y_train, y_test = train_test_split(x, y, test_size=0.2, random_state=42)\n",
    "print(\"Learning set size : {}, test set size : {}\".format(len(x_train), len(x_test)))"
   ]
  },
  {
   "attachments": {},
   "cell_type": "markdown",
   "metadata": {},
   "source": [
    "# Random Forest Regression"
   ]
  },
  {
   "cell_type": "code",
   "execution_count": 6,
   "metadata": {},
   "outputs": [],
   "source": [
    "# Define the search grid for hyperparameters\n",
    "param_grid = {\n",
    "    'n_estimators': [100, 500, 1000, 5000],\n",
    "    'max_depth': [None, 5, 10],\n",
    "    'min_samples_split': [2, 5, 10],\n",
    "    'max_features': [None, 'sqrt', 'log2']\n",
    "}\n",
    "\n",
    "# Define the model\n",
    "rf_regressor = RandomForestRegressor(random_state=42)"
   ]
  },
  {
   "cell_type": "code",
   "execution_count": 7,
   "metadata": {},
   "outputs": [],
   "source": [
    "# Perform a grid search to find the best hyperparameters\n",
    "grid_search = GridSearchCV(estimator=rf_regressor, param_grid=param_grid, cv=5)\n",
    "grid_search.fit(x_train, y_train)\n",
    "\n",
    "# Get the best hyperparameters from the grid search\n",
    "best_params = grid_search.best_params_"
   ]
  },
  {
   "cell_type": "code",
   "execution_count": 8,
   "metadata": {},
   "outputs": [
    {
     "name": "stdout",
     "output_type": "stream",
     "text": [
      "Best hyperparameters : {'max_depth': 5, 'max_features': 'sqrt', 'min_samples_split': 10, 'n_estimators': 5000}\n"
     ]
    }
   ],
   "source": [
    "# Print the best hyperparameters\n",
    "print(\"Best hyperparameters : {}\".format(best_params))\n",
    "# Best hyperparameters : {'max_depth': 5, 'max_features': 'sqrt', 'min_samples_split': 10, 'n_estimators': 5000}"
   ]
  },
  {
   "cell_type": "code",
   "execution_count": 9,
   "metadata": {},
   "outputs": [
    {
     "data": {
      "text/html": [
       "<style>#sk-container-id-1 {color: black;background-color: white;}#sk-container-id-1 pre{padding: 0;}#sk-container-id-1 div.sk-toggleable {background-color: white;}#sk-container-id-1 label.sk-toggleable__label {cursor: pointer;display: block;width: 100%;margin-bottom: 0;padding: 0.3em;box-sizing: border-box;text-align: center;}#sk-container-id-1 label.sk-toggleable__label-arrow:before {content: \"▸\";float: left;margin-right: 0.25em;color: #696969;}#sk-container-id-1 label.sk-toggleable__label-arrow:hover:before {color: black;}#sk-container-id-1 div.sk-estimator:hover label.sk-toggleable__label-arrow:before {color: black;}#sk-container-id-1 div.sk-toggleable__content {max-height: 0;max-width: 0;overflow: hidden;text-align: left;background-color: #f0f8ff;}#sk-container-id-1 div.sk-toggleable__content pre {margin: 0.2em;color: black;border-radius: 0.25em;background-color: #f0f8ff;}#sk-container-id-1 input.sk-toggleable__control:checked~div.sk-toggleable__content {max-height: 200px;max-width: 100%;overflow: auto;}#sk-container-id-1 input.sk-toggleable__control:checked~label.sk-toggleable__label-arrow:before {content: \"▾\";}#sk-container-id-1 div.sk-estimator input.sk-toggleable__control:checked~label.sk-toggleable__label {background-color: #d4ebff;}#sk-container-id-1 div.sk-label input.sk-toggleable__control:checked~label.sk-toggleable__label {background-color: #d4ebff;}#sk-container-id-1 input.sk-hidden--visually {border: 0;clip: rect(1px 1px 1px 1px);clip: rect(1px, 1px, 1px, 1px);height: 1px;margin: -1px;overflow: hidden;padding: 0;position: absolute;width: 1px;}#sk-container-id-1 div.sk-estimator {font-family: monospace;background-color: #f0f8ff;border: 1px dotted black;border-radius: 0.25em;box-sizing: border-box;margin-bottom: 0.5em;}#sk-container-id-1 div.sk-estimator:hover {background-color: #d4ebff;}#sk-container-id-1 div.sk-parallel-item::after {content: \"\";width: 100%;border-bottom: 1px solid gray;flex-grow: 1;}#sk-container-id-1 div.sk-label:hover label.sk-toggleable__label {background-color: #d4ebff;}#sk-container-id-1 div.sk-serial::before {content: \"\";position: absolute;border-left: 1px solid gray;box-sizing: border-box;top: 0;bottom: 0;left: 50%;z-index: 0;}#sk-container-id-1 div.sk-serial {display: flex;flex-direction: column;align-items: center;background-color: white;padding-right: 0.2em;padding-left: 0.2em;position: relative;}#sk-container-id-1 div.sk-item {position: relative;z-index: 1;}#sk-container-id-1 div.sk-parallel {display: flex;align-items: stretch;justify-content: center;background-color: white;position: relative;}#sk-container-id-1 div.sk-item::before, #sk-container-id-1 div.sk-parallel-item::before {content: \"\";position: absolute;border-left: 1px solid gray;box-sizing: border-box;top: 0;bottom: 0;left: 50%;z-index: -1;}#sk-container-id-1 div.sk-parallel-item {display: flex;flex-direction: column;z-index: 1;position: relative;background-color: white;}#sk-container-id-1 div.sk-parallel-item:first-child::after {align-self: flex-end;width: 50%;}#sk-container-id-1 div.sk-parallel-item:last-child::after {align-self: flex-start;width: 50%;}#sk-container-id-1 div.sk-parallel-item:only-child::after {width: 0;}#sk-container-id-1 div.sk-dashed-wrapped {border: 1px dashed gray;margin: 0 0.4em 0.5em 0.4em;box-sizing: border-box;padding-bottom: 0.4em;background-color: white;}#sk-container-id-1 div.sk-label label {font-family: monospace;font-weight: bold;display: inline-block;line-height: 1.2em;}#sk-container-id-1 div.sk-label-container {text-align: center;}#sk-container-id-1 div.sk-container {/* jupyter's `normalize.less` sets `[hidden] { display: none; }` but bootstrap.min.css set `[hidden] { display: none !important; }` so we also need the `!important` here to be able to override the default hidden behavior on the sphinx rendered scikit-learn.org. See: https://github.com/scikit-learn/scikit-learn/issues/21755 */display: inline-block !important;position: relative;}#sk-container-id-1 div.sk-text-repr-fallback {display: none;}</style><div id=\"sk-container-id-1\" class=\"sk-top-container\"><div class=\"sk-text-repr-fallback\"><pre>RandomForestRegressor(max_depth=5, max_features=&#x27;sqrt&#x27;, min_samples_split=10,\n",
       "                      n_estimators=5000, random_state=42)</pre><b>In a Jupyter environment, please rerun this cell to show the HTML representation or trust the notebook. <br />On GitHub, the HTML representation is unable to render, please try loading this page with nbviewer.org.</b></div><div class=\"sk-container\" hidden><div class=\"sk-item\"><div class=\"sk-estimator sk-toggleable\"><input class=\"sk-toggleable__control sk-hidden--visually\" id=\"sk-estimator-id-1\" type=\"checkbox\" checked><label for=\"sk-estimator-id-1\" class=\"sk-toggleable__label sk-toggleable__label-arrow\">RandomForestRegressor</label><div class=\"sk-toggleable__content\"><pre>RandomForestRegressor(max_depth=5, max_features=&#x27;sqrt&#x27;, min_samples_split=10,\n",
       "                      n_estimators=5000, random_state=42)</pre></div></div></div></div></div>"
      ],
      "text/plain": [
       "RandomForestRegressor(max_depth=5, max_features='sqrt', min_samples_split=10,\n",
       "                      n_estimators=5000, random_state=42)"
      ]
     },
     "execution_count": 9,
     "metadata": {},
     "output_type": "execute_result"
    }
   ],
   "source": [
    "# Create a new random forest regressor with the best hyperparameters\n",
    "rf_regressor = RandomForestRegressor(**best_params, random_state=42)\n",
    "\n",
    "# Fit the model to the training data\n",
    "rf_regressor.fit(x_train, y_train)"
   ]
  },
  {
   "cell_type": "code",
   "execution_count": 10,
   "metadata": {},
   "outputs": [
    {
     "name": "stdout",
     "output_type": "stream",
     "text": [
      "Mean Squared Error: 0.18\n",
      "R-squared Score: -0.21\n"
     ]
    }
   ],
   "source": [
    "# Use the model to make predictions on the test data\n",
    "y_pred = rf_regressor.predict(x_test)\n",
    "\n",
    "# Evaluate the model's performance\n",
    "mse = mean_squared_error(y_test, y_pred)\n",
    "r2 = r2_score(y_test, y_pred)\n",
    "\n",
    "# Print the results\n",
    "print(\"Mean Squared Error: {:.2f}\".format(mse))\n",
    "print(\"R-squared Score: {:.2f}\".format(r2))"
   ]
  },
  {
   "cell_type": "code",
   "execution_count": 21,
   "metadata": {},
   "outputs": [
    {
     "data": {
      "image/png": "[encoded data removed]",
      "text/plain": [
       "<Figure size 640x480 with 1 Axes>"
      ]
     },
     "metadata": {},
     "output_type": "display_data"
    }
   ],
   "source": [
    "# Plot the predicted values vs the actual ones for one observation\n",
    "import matplotlib.pyplot as plt\n",
    "\n",
    "x_plot = df_AD['SEPARATION'].iloc[0]\n",
    "y_plot = y_test[80]\n",
    "y_pred_plot = y_pred[80]\n",
    "\n",
    "plt.plot(x_plot, y_plot, color='blue', label='Actual')\n",
    "plt.plot(x_plot, y_pred_plot, color='red', label='Predicted')\n",
    "plt.xlabel('Separation (arcsec)')\n",
    "plt.ylabel('Contrast (5-sigma)')\n",
    "plt.yscale(value='log')\n",
    "plt.legend()\n",
    "plt.show()\n"
   ]
  },
  {
   "attachments": {},
   "cell_type": "markdown",
   "metadata": {},
   "source": [
    "# Multilayer Perceptron"
   ]
  },
  {
   "cell_type": "code",
   "execution_count": 51,
   "metadata": {},
   "outputs": [
    {
     "name": "stdout",
     "output_type": "stream",
     "text": [
      "x_train_tensor shape : torch.Size([674, 17])\n",
      "y_train_tensor shape : torch.Size([674, 124])\n",
      "x_test_tensor shape : torch.Size([169, 17])\n",
      "y_test_tensor shape : torch.Size([169, 124])\n",
      "Device : cpu\n"
     ]
    }
   ],
   "source": [
    "import torch\n",
    "import torch.nn as nn\n",
    "import torch.optim as optim\n",
    "\n",
    "# Convert the data to tensors\n",
    "x_train_tensor = torch.tensor(x_train, dtype=torch.float32)\n",
    "y_train_tensor = torch.tensor(y_train, dtype=torch.float32)\n",
    "x_test_tensor = torch.tensor(x_test, dtype=torch.float32)\n",
    "y_test_tensor = torch.tensor(y_test, dtype=torch.float32)\n",
    "\n",
    "print(\"x_train_tensor shape : {}\".format(x_train_tensor.shape))\n",
    "print(\"y_train_tensor shape : {}\".format(y_train_tensor.shape))\n",
    "print(\"x_test_tensor shape : {}\".format(x_test_tensor.shape))\n",
    "print(\"y_test_tensor shape : {}\".format(y_test_tensor.shape))\n",
    "\n",
    "# Define the device\n",
    "device = torch.device('cuda' if torch.cuda.is_available() else 'cpu')\n",
    "print(\"Device : {}\".format(device))"
   ]
  },
  {
   "cell_type": "code",
   "execution_count": 54,
   "metadata": {},
   "outputs": [],
   "source": [
    "# Define the model\n",
    "\n",
    "class MLP(nn.Sequential):\n",
    "    def __init__(self, input_features, output_features, hidden_features):\n",
    "        super().__init__(\n",
    "            nn.Linear(input_features, hidden_features),\n",
    "            nn.ReLU(),\n",
    "            nn.Linear(hidden_features, hidden_features),\n",
    "            nn.ReLU(),\n",
    "            nn.Linear(hidden_features, hidden_features),\n",
    "            nn.ReLU(),\n",
    "            nn.Linear(hidden_features, output_features),\n",
    "        )\n",
    "\n",
    "input_size = x_train_tensor.shape[1]\n",
    "hidden_size = 64\n",
    "output_size = y_train_tensor.shape[1]\n",
    "\n",
    "model = MLP(input_size, output_size, hidden_size)\n",
    "\n",
    "# Define the loss function and the optimizer\n",
    "criterion = nn.MSELoss() # Probably not the best choice for this problem but it's just for the example\n",
    "optimizer = optim.Adam(model.parameters(), lr=0.001)"
   ]
  },
  {
   "cell_type": "code",
   "execution_count": 55,
   "metadata": {},
   "outputs": [
    {
     "data": {
      "text/html": [
       "Tracking run with wandb version 0.15.3"
      ],
      "text/plain": [
       "<IPython.core.display.HTML object>"
      ]
     },
     "metadata": {},
     "output_type": "display_data"
    },
    {
     "data": {
      "text/html": [
       "Run data is saved locally in <code>/Users/ludo/Documents/TFE/Master-Thesis/wandb/run-20230601_162830-s26h7rq3</code>"
      ],
      "text/plain": [
       "<IPython.core.display.HTML object>"
      ]
     },
     "metadata": {},
     "output_type": "display_data"
    },
    {
     "data": {
      "text/html": [
       "Syncing run <strong><a href='https://wandb.ai/high-contrast-imaging/master-thesis/runs/s26h7rq3' target=\"_blank\">fluent-sponge-2</a></strong> to <a href='https://wandb.ai/high-contrast-imaging/master-thesis' target=\"_blank\">Weights & Biases</a> (<a href='https://wandb.me/run' target=\"_blank\">docs</a>)<br/>"
      ],
      "text/plain": [
       "<IPython.core.display.HTML object>"
      ]
     },
     "metadata": {},
     "output_type": "display_data"
    },
    {
     "data": {
      "text/html": [
       " View project at <a href='https://wandb.ai/high-contrast-imaging/master-thesis' target=\"_blank\">https://wandb.ai/high-contrast-imaging/master-thesis</a>"
      ],
      "text/plain": [
       "<IPython.core.display.HTML object>"
      ]
     },
     "metadata": {},
     "output_type": "display_data"
    },
    {
     "data": {
      "text/html": [
       " View run at <a href='https://wandb.ai/high-contrast-imaging/master-thesis/runs/s26h7rq3' target=\"_blank\">https://wandb.ai/high-contrast-imaging/master-thesis/runs/s26h7rq3</a>"
      ],
      "text/plain": [
       "<IPython.core.display.HTML object>"
      ]
     },
     "metadata": {},
     "output_type": "display_data"
    },
    {
     "data": {
      "text/html": [
       "<button onClick=\"this.nextSibling.style.display='block';this.style.display='none';\">Display W&B run</button><iframe src='https://wandb.ai/high-contrast-imaging/master-thesis/runs/s26h7rq3?jupyter=true' style='border:none;width:100%;height:420px;display:none;'></iframe>"
      ],
      "text/plain": [
       "<wandb.sdk.wandb_run.Run at 0x2eaa19690>"
      ]
     },
     "execution_count": 55,
     "metadata": {},
     "output_type": "execute_result"
    }
   ],
   "source": [
    "# start a new wandb run to track this script\n",
    "wandb.init(\n",
    "    # set the wandb project where this run will be logged\n",
    "    project=\"master-thesis\",\n",
    "    \n",
    "    # track hyperparameters and run metadata\n",
    "    config={\n",
    "    \"learning_rate\": 0.001,\n",
    "    \"architecture\": \"MLP\",\n",
    "    \"dataset\": \"Custom dataset\",\n",
    "    \"epochs\": 500,\n",
    "    }\n",
    ")"
   ]
  },
  {
   "cell_type": "code",
   "execution_count": 56,
   "metadata": {},
   "outputs": [
    {
     "data": {
      "text/html": [
       "Waiting for W&B process to finish... <strong style=\"color:green\">(success).</strong>"
      ],
      "text/plain": [
       "<IPython.core.display.HTML object>"
      ]
     },
     "metadata": {},
     "output_type": "display_data"
    },
    {
     "data": {
      "text/html": [
       "<style>\n",
       "    table.wandb td:nth-child(1) { padding: 0 10px; text-align: left ; width: auto;} td:nth-child(2) {text-align: left ; width: 100%}\n",
       "    .wandb-row { display: flex; flex-direction: row; flex-wrap: wrap; justify-content: flex-start; width: 100% }\n",
       "    .wandb-col { display: flex; flex-direction: column; flex-basis: 100%; flex: 1; padding: 10px; }\n",
       "    </style>\n",
       "<div class=\"wandb-row\"><div class=\"wandb-col\"><h3>Run history:</h3><br/><table class=\"wandb\"><tr><td>loss</td><td>█▇▂▁▁▁▁▁▁▁▁▁▁▁▁▁▁▁▁▁▁▁▁▁▁▁▁▁▁▁▁▁▁▁▁▁▁▁▁▁</td></tr></table><br/></div><div class=\"wandb-col\"><h3>Run summary:</h3><br/><table class=\"wandb\"><tr><td>loss</td><td>0.00034</td></tr></table><br/></div></div>"
      ],
      "text/plain": [
       "<IPython.core.display.HTML object>"
      ]
     },
     "metadata": {},
     "output_type": "display_data"
    },
    {
     "data": {
      "text/html": [
       " View run <strong style=\"color:#cdcd00\">fluent-sponge-2</strong> at: <a href='https://wandb.ai/high-contrast-imaging/master-thesis/runs/s26h7rq3' target=\"_blank\">https://wandb.ai/high-contrast-imaging/master-thesis/runs/s26h7rq3</a><br/>Synced 4 W&B file(s), 0 media file(s), 0 artifact file(s) and 0 other file(s)"
      ],
      "text/plain": [
       "<IPython.core.display.HTML object>"
      ]
     },
     "metadata": {},
     "output_type": "display_data"
    },
    {
     "data": {
      "text/html": [
       "Find logs at: <code>./wandb/run-20230601_162830-s26h7rq3/logs</code>"
      ],
      "text/plain": [
       "<IPython.core.display.HTML object>"
      ]
     },
     "metadata": {},
     "output_type": "display_data"
    }
   ],
   "source": [
    "# Train the model\n",
    "num_epochs = 5000\n",
    "batch_size = 32\n",
    "\n",
    "for epoch in range(num_epochs):\n",
    "    # Forward pass\n",
    "    y_pred_tensor = model(x_train_tensor)\n",
    "    loss = criterion(y_pred_tensor, y_train_tensor)\n",
    "\n",
    "    # Backward pass and optimization\n",
    "    optimizer.zero_grad()\n",
    "    loss.backward()\n",
    "    optimizer.step()\n",
    "\n",
    "    # log metrics to wandb\n",
    "    wandb.log({\"loss\": loss.item()})\n",
    "\n",
    "wandb.finish()"
   ]
  },
  {
   "cell_type": "code",
   "execution_count": 57,
   "metadata": {},
   "outputs": [],
   "source": [
    "# Make predictions on the test set\n",
    "with torch.no_grad():\n",
    "    y_pred_tensor = model(x_test_tensor)\n",
    "    y_pred_mlp = y_pred_tensor.numpy()\n",
    "    # y_pred_mlp = y_pred_mlp.reshape(-1)"
   ]
  },
  {
   "cell_type": "code",
   "execution_count": 58,
   "metadata": {},
   "outputs": [
    {
     "data": {
      "image/png": "[encoded data removed]",
      "text/plain": [
       "<Figure size 640x480 with 1 Axes>"
      ]
     },
     "metadata": {},
     "output_type": "display_data"
    }
   ],
   "source": [
    "# Plot the predicted values vs the actual ones for one observation\n",
    "import matplotlib.pyplot as plt\n",
    "\n",
    "x_plot = df_AD['SEPARATION'].iloc[0]\n",
    "y_plot = y_test[80]\n",
    "y_pred_plot = y_pred_mlp[80]\n",
    "\n",
    "plt.plot(x_plot, y_plot, color='blue', label='Actual')\n",
    "plt.plot(x_plot, y_pred_plot, color='red', label='Predicted')\n",
    "plt.xlabel('Separation (arcsec)')\n",
    "plt.ylabel('Contrast (5-sigma)')\n",
    "plt.yscale(value='log')\n",
    "plt.legend()\n",
    "plt.show()\n"
   ]
  }
 ],
 "metadata": {
  "kernelspec": {
   "display_name": "Python 3",
   "language": "python",
   "name": "python3"
  },
  "language_info": {
   "codemirror_mode": {
    "name": "ipython",
    "version": 3
   },
   "file_extension": ".py",
   "mimetype": "text/x-python",
   "name": "python",
   "nbconvert_exporter": "python",
   "pygments_lexer": "ipython3",
   "version": "3.11.3"
  },
  "orig_nbformat": 4
 },
 "nbformat": 4,
 "nbformat_minor": 2
}
