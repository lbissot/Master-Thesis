{
 "cells": [
  {
   "cell_type": "markdown",
   "metadata": {},
   "source": [
    "# Database creation\n",
    "This file is used to play with the data and once the objective is reached, functions will be written in .py files in order to be used by the model part of the project."
   ]
  },
  {
   "cell_type": "code",
   "execution_count": 64,
   "metadata": {},
   "outputs": [
    {
     "name": "stdout",
     "output_type": "stream",
     "text": [
      "(numpy.record, [('TARGET_NAME', 'S3'), ('LAM', 'S10'), ('PIXSCALE', 'S10'), ('NSIGMA', 'S3'), ('REPERTORY', 'S55'), ('SEPARATION', '>f4', (1148,)), ('NSIGMA_CONTRAST', '>f4', (1148,))])\n",
      "2014-10-08T05:51:18.0343\n",
      "['FS4' 'FS4' 'FS4']\n"
     ]
    }
   ],
   "source": [
    "from astropy.io import fits\n",
    "from tabulate import tabulate\n",
    "import pandas as pd\n",
    "# Retrieve the contrast curves from the database\n",
    "path_db = 'C:/Users/ludin/Documents/Master Thesis/DB_creation/SPHERE_DC_DATA/'\n",
    "foldername = '2MASS J01543773+0043005_DB_H23_2014-10-07_ird_specal_dc_cADI_softsorting_200967/'\n",
    "filename = 'ird_specal_dc-IRD_SPECAL_CONTRAST_CURVE_TABLE-contrast_curve_tab.fits'\n",
    "\n",
    "if not os.path.exists(path_db):\n",
    "    print('ERROR! Folder {} does not exist.'.format(path_db)) # exit doesn't print anything in jupyter notebook\n",
    "\n",
    "if not os.path.exists(os.path.join(path_db, foldername)):\n",
    "    print('ERROR! Folder {} does not exist.'.format(foldername))\n",
    "\n",
    "if not os.path.exists(os.path.join(path_db, foldername, filename)):\n",
    "    print('ERROR! File {} does not exist.'.format(filename))\n",
    "\n",
    "with fits.open(os.path.join(path_db, foldername, filename)) as hdul:\n",
    "    data = hdul[1].data #numpy record\n",
    "    print(data.dtype)\n",
    "    print(hdul[1].header['DATE-OBS'])\n",
    "    print(hdul[1].data['TARGET_NAME'])\n"
   ]
  },
  {
   "cell_type": "code",
   "execution_count": 72,
   "metadata": {},
   "outputs": [],
   "source": [
    "def write_headers_in_file(fits_headers, file_path, filename='headers.txt', table_format='psql'):\n",
    "    \"\"\"\n",
    "    Write fits headers in a file.\n",
    "    \"\"\"\n",
    "\n",
    "    if not os.path.exists(path):\n",
    "        exit('ERROR! Folder {} does not exist.'.format(path))\n",
    "    \n",
    "    if not file_path[-1] == '/':\n",
    "        file_path += '/'\n",
    "\n",
    "    table = []\n",
    "\n",
    "    with open(os.path.join(file_path, filename), 'w') as f:\n",
    "        for card in fits_headers.cards:\n",
    "            table.append([card.keyword, card.value, card.comment])\n",
    "            \n",
    "        f.write(tabulate(table, headers=['Keyword', 'Value', 'Comment'], tablefmt=table_format))"
   ]
  },
  {
   "cell_type": "code",
   "execution_count": 90,
   "metadata": {},
   "outputs": [],
   "source": [
    "def get_folder_names(path):\n",
    "    \"\"\"\n",
    "    Get a list of the folders names located in a given path.\n",
    "    \"\"\"\n",
    "    folder_names = []\n",
    "    for folder in os.listdir(path):\n",
    "        if os.path.isdir(os.path.join(path, folder)):\n",
    "            folder_names.append(folder)\n",
    "    return folder_names"
   ]
  },
  {
   "cell_type": "code",
   "execution_count": 96,
   "metadata": {},
   "outputs": [],
   "source": [
    "def get_df_with_headers(path, header_list=[]):\n",
    "    \"\"\"\n",
    "    Get a dataframe with the separation, contrast and headers specified in the list.\n",
    "    \"\"\"\n",
    "\n",
    "    if not os.path.exists(path):\n",
    "        exit('ERROR! Folder {} does not exist.'.format(path))\n",
    "\n",
    "    folder_names = get_folder_names(path)\n",
    "\n",
    "    data_dict_list = []\n",
    "\n",
    "    for folder in folder_names:\n",
    "        folder = folder + '/'\n",
    "\n",
    "        with fits.open(os.path.join(path, folder, filename)) as hdul:\n",
    "\n",
    "            fits_data = hdul[1].data\n",
    "            fits_headers = hdul[1].header\n",
    "            data_dict = {}\n",
    "\n",
    "            for header in header_list:\n",
    "                data_dict[header] = fits_headers[header]\n",
    "            \n",
    "            data_dict['SEPARATION'] = fits_data['SEPARATION']\n",
    "            data_dict['NSIGMA_CONTRAST'] = fits_data['NSIGMA_CONTRAST']\n",
    "\n",
    "            data_dict_list.append(data_dict)\n",
    "\n",
    "    return pd.DataFrame(data_dict_list)\n",
    "            "
   ]
  },
  {
   "cell_type": "code",
   "execution_count": 95,
   "metadata": {},
   "outputs": [],
   "source": [
    "df = get_df_with_headers(path_db, ['ESO OBS ID', 'DATE-OBS', 'OBJECT'])"
   ]
  }
 ],
 "metadata": {
  "kernelspec": {
   "display_name": "Python 3.9.0 64-bit",
   "language": "python",
   "name": "python3"
  },
  "language_info": {
   "codemirror_mode": {
    "name": "ipython",
    "version": 3
   },
   "file_extension": ".py",
   "mimetype": "text/x-python",
   "name": "python",
   "nbconvert_exporter": "python",
   "pygments_lexer": "ipython3",
   "version": "3.9.0"
  },
  "orig_nbformat": 4,
  "vscode": {
   "interpreter": {
    "hash": "81794d4967e6c3204c66dcd87b604927b115b27c00565d3d43f05ba2f3a2cb0d"
   }
  }
 },
 "nbformat": 4,
 "nbformat_minor": 2
}
