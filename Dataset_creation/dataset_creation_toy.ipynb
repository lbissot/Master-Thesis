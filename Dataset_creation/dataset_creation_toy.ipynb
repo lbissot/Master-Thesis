{
 "cells": [
  {
   "cell_type": "markdown",
   "metadata": {},
   "source": [
    "# Database creation\n",
    "This file is used to play with the data and once the objective is reached, functions will be written in .py files in order to be used by the model part of the project."
   ]
  },
  {
   "cell_type": "code",
   "execution_count": 1,
   "metadata": {},
   "outputs": [
    {
     "name": "stdout",
     "output_type": "stream",
     "text": [
      "(numpy.record, [('TARGET_NAME', 'S3'), ('LAM', 'S10'), ('PIXSCALE', 'S10'), ('NSIGMA', 'S3'), ('REPERTORY', 'S55'), ('SEPARATION', '>f4', (1148,)), ('NSIGMA_CONTRAST', '>f4', (1148,))])\n",
      "2014-10-08T05:51:18.0343\n",
      "['FS4' 'FS4' 'FS4']\n"
     ]
    }
   ],
   "source": [
    "from astropy.io import fits\n",
    "from tabulate import tabulate\n",
    "import pandas as pd\n",
    "import numpy as np\n",
    "import matplotlib.pyplot as plt\n",
    "\n",
    "from dataset_creation_utils import *\n",
    "# Retrieve the contrast curves from the database\n",
    "path_db = 'C:/Users/ludin/Documents/Master Thesis/Dataset_creation/SPHERE_DC_DATA/'\n",
    "foldername = '2MASS J01543773+0043005_DB_H23_2014-10-07_ird_specal_dc_cADI_softsorting_200967/'\n",
    "filename = 'ird_specal_dc-IRD_SPECAL_CONTRAST_CURVE_TABLE-contrast_curve_tab.fits'\n",
    "\n",
    "if not os.path.exists(path_db):\n",
    "    print('ERROR! Folder {} does not exist.'.format(path_db)) # exit doesn't print anything in jupyter notebook\n",
    "\n",
    "if not os.path.exists(os.path.join(path_db, foldername)):\n",
    "    print('ERROR! Folder {} does not exist.'.format(foldername))\n",
    "\n",
    "if not os.path.exists(os.path.join(path_db, foldername, filename)):\n",
    "    print('ERROR! File {} does not exist.'.format(filename))\n",
    "\n",
    "# Example of how to read a fits file\n",
    "with fits.open(os.path.join(path_db, foldername, filename)) as hdul:\n",
    "    data = hdul[1].data #numpy record\n",
    "    print(data.dtype)\n",
    "    print(hdul[1].header['DATE-OBS'])\n",
    "    print(hdul[1].data['TARGET_NAME'])\n",
    "\n"
   ]
  },
  {
   "cell_type": "code",
   "execution_count": 2,
   "metadata": {},
   "outputs": [
    {
     "data": {
      "text/html": [
       "<div>\n",
       "<style scoped>\n",
       "    .dataframe tbody tr th:only-of-type {\n",
       "        vertical-align: middle;\n",
       "    }\n",
       "\n",
       "    .dataframe tbody tr th {\n",
       "        vertical-align: top;\n",
       "    }\n",
       "\n",
       "    .dataframe thead th {\n",
       "        text-align: right;\n",
       "    }\n",
       "</style>\n",
       "<table border=\"1\" class=\"dataframe\">\n",
       "  <thead>\n",
       "    <tr style=\"text-align: right;\">\n",
       "      <th></th>\n",
       "      <th>folder</th>\n",
       "      <th>ESO OBS ID</th>\n",
       "      <th>DATE-OBS</th>\n",
       "      <th>OBJECT</th>\n",
       "      <th>SEPARATION</th>\n",
       "      <th>NSIGMA_CONTRAST</th>\n",
       "    </tr>\n",
       "  </thead>\n",
       "  <tbody>\n",
       "    <tr>\n",
       "      <th>0</th>\n",
       "      <td>++ CVN 3B_DB_H23_2018-09-14_ird_specal_dc_cADI...</td>\n",
       "      <td>2177825</td>\n",
       "      <td>2018-09-15T07:33:22.60</td>\n",
       "      <td>CD-52   381</td>\n",
       "      <td>[0.006105000153183937, 0.030420974449882253, 0...</td>\n",
       "      <td>[0.07546933740377426, 0.07712596848056678, 0.0...</td>\n",
       "    </tr>\n",
       "    <tr>\n",
       "      <th>1</th>\n",
       "      <td>++ KOH 78_DB_H23_2016-04-03_ird_specal_dc_cADI...</td>\n",
       "      <td>1182440</td>\n",
       "      <td>2016-04-04T07:59:57.8491</td>\n",
       "      <td>ScoPMS_048</td>\n",
       "      <td>[0.006105000153183937, 0.030420974449882253, 0...</td>\n",
       "      <td>[0.024168867617845535, 0.013727830975673552, 0...</td>\n",
       "    </tr>\n",
       "    <tr>\n",
       "      <th>2</th>\n",
       "      <td>++ SKF 1501_DB_H23_2015-04-11_ird_specal_dc_cA...</td>\n",
       "      <td>1182371</td>\n",
       "      <td>2015-04-12T07:15:49.8435</td>\n",
       "      <td>HIP_76629</td>\n",
       "      <td>[0.006105000153183937, 0.030420974449882253, 0...</td>\n",
       "      <td>[0.01883835159242153, 0.008466474323989774, 0....</td>\n",
       "    </tr>\n",
       "    <tr>\n",
       "      <th>3</th>\n",
       "      <td>1RXS J184646.0-363621_DB_H23_2018-07-04_ird_sp...</td>\n",
       "      <td>1962017</td>\n",
       "      <td>2018-07-05T01:24:56.95</td>\n",
       "      <td>RXJ1846</td>\n",
       "      <td>[0.006105000153183937, 0.030420974449882253, 0...</td>\n",
       "      <td>[0.13829022645950317, 0.12528548200099757, 0.0...</td>\n",
       "    </tr>\n",
       "    <tr>\n",
       "      <th>4</th>\n",
       "      <td>1RXS J184646.0-363621_DB_H23_2018-07-04_ird_sp...</td>\n",
       "      <td>1962017</td>\n",
       "      <td>2018-07-05T01:24:56.95</td>\n",
       "      <td>RXJ1846</td>\n",
       "      <td>[0.006105000153183937, 0.030420974449882253, 0...</td>\n",
       "      <td>[0.13829022645950317, 0.12528548200099757, 0.0...</td>\n",
       "    </tr>\n",
       "    <tr>\n",
       "      <th>...</th>\n",
       "      <td>...</td>\n",
       "      <td>...</td>\n",
       "      <td>...</td>\n",
       "      <td>...</td>\n",
       "      <td>...</td>\n",
       "      <td>...</td>\n",
       "    </tr>\n",
       "    <tr>\n",
       "      <th>509</th>\n",
       "      <td>TYC 7692-2943-2_DB_H23_2019-03-19_ird_specal_d...</td>\n",
       "      <td>2296758</td>\n",
       "      <td>2019-03-20T02:23:21.23</td>\n",
       "      <td>TYC 7692-2943-2</td>\n",
       "      <td>[0.006105000153183937, 0.030420974449882253, 0...</td>\n",
       "      <td>[0.021788790822029114, 0.01076361939993451, 0....</td>\n",
       "    </tr>\n",
       "    <tr>\n",
       "      <th>510</th>\n",
       "      <td>TYC 7692-2943-2_DB_H23_2019-03-24_ird_specal_d...</td>\n",
       "      <td>2296758</td>\n",
       "      <td>2019-03-25T02:18:36.93</td>\n",
       "      <td>TYC 7692-2943-2</td>\n",
       "      <td>[0.006105000153183937, 0.030420974449882253, 0...</td>\n",
       "      <td>[0.011126062832772732, 0.0070464837691727195, ...</td>\n",
       "    </tr>\n",
       "    <tr>\n",
       "      <th>511</th>\n",
       "      <td>TYC 8092-1574-2_DB_H23_2016-10-01_ird_specal_d...</td>\n",
       "      <td>1424674</td>\n",
       "      <td>2016-10-02T08:50:23.1564</td>\n",
       "      <td>HIP 28153</td>\n",
       "      <td>[0.006105000153183937, 0.030420974449882253, 0...</td>\n",
       "      <td>[0.030811656266450882, 0.007723410447323252, 0...</td>\n",
       "    </tr>\n",
       "    <tr>\n",
       "      <th>512</th>\n",
       "      <td>TYC 8097-337-1_DB_H23_2018-10-31_ird_specal_dc...</td>\n",
       "      <td>2028801</td>\n",
       "      <td>2018-11-01T07:33:29.10</td>\n",
       "      <td>TYC 8097-337-1</td>\n",
       "      <td>[0.006105000153183937, 0.030420974449882253, 0...</td>\n",
       "      <td>[0.011241959407925606, 0.0068635571590479495, ...</td>\n",
       "    </tr>\n",
       "    <tr>\n",
       "      <th>513</th>\n",
       "      <td>[ITH2008] HD 35007B-cc1_DB_H23_2018-02-05_ird_...</td>\n",
       "      <td>1775160</td>\n",
       "      <td>2018-02-06T01:42:50.51</td>\n",
       "      <td>HD35007B</td>\n",
       "      <td>[0.006105000153183937, 0.030420974449882253, 0...</td>\n",
       "      <td>[0.021206237375736237, 0.013890327762039571, 0...</td>\n",
       "    </tr>\n",
       "  </tbody>\n",
       "</table>\n",
       "<p>514 rows × 6 columns</p>\n",
       "</div>"
      ],
      "text/plain": [
       "                                                folder  ESO OBS ID  \\\n",
       "0    ++ CVN 3B_DB_H23_2018-09-14_ird_specal_dc_cADI...     2177825   \n",
       "1    ++ KOH 78_DB_H23_2016-04-03_ird_specal_dc_cADI...     1182440   \n",
       "2    ++ SKF 1501_DB_H23_2015-04-11_ird_specal_dc_cA...     1182371   \n",
       "3    1RXS J184646.0-363621_DB_H23_2018-07-04_ird_sp...     1962017   \n",
       "4    1RXS J184646.0-363621_DB_H23_2018-07-04_ird_sp...     1962017   \n",
       "..                                                 ...         ...   \n",
       "509  TYC 7692-2943-2_DB_H23_2019-03-19_ird_specal_d...     2296758   \n",
       "510  TYC 7692-2943-2_DB_H23_2019-03-24_ird_specal_d...     2296758   \n",
       "511  TYC 8092-1574-2_DB_H23_2016-10-01_ird_specal_d...     1424674   \n",
       "512  TYC 8097-337-1_DB_H23_2018-10-31_ird_specal_dc...     2028801   \n",
       "513  [ITH2008] HD 35007B-cc1_DB_H23_2018-02-05_ird_...     1775160   \n",
       "\n",
       "                     DATE-OBS           OBJECT  \\\n",
       "0      2018-09-15T07:33:22.60      CD-52   381   \n",
       "1    2016-04-04T07:59:57.8491       ScoPMS_048   \n",
       "2    2015-04-12T07:15:49.8435        HIP_76629   \n",
       "3      2018-07-05T01:24:56.95          RXJ1846   \n",
       "4      2018-07-05T01:24:56.95          RXJ1846   \n",
       "..                        ...              ...   \n",
       "509    2019-03-20T02:23:21.23  TYC 7692-2943-2   \n",
       "510    2019-03-25T02:18:36.93  TYC 7692-2943-2   \n",
       "511  2016-10-02T08:50:23.1564        HIP 28153   \n",
       "512    2018-11-01T07:33:29.10   TYC 8097-337-1   \n",
       "513    2018-02-06T01:42:50.51         HD35007B   \n",
       "\n",
       "                                            SEPARATION  \\\n",
       "0    [0.006105000153183937, 0.030420974449882253, 0...   \n",
       "1    [0.006105000153183937, 0.030420974449882253, 0...   \n",
       "2    [0.006105000153183937, 0.030420974449882253, 0...   \n",
       "3    [0.006105000153183937, 0.030420974449882253, 0...   \n",
       "4    [0.006105000153183937, 0.030420974449882253, 0...   \n",
       "..                                                 ...   \n",
       "509  [0.006105000153183937, 0.030420974449882253, 0...   \n",
       "510  [0.006105000153183937, 0.030420974449882253, 0...   \n",
       "511  [0.006105000153183937, 0.030420974449882253, 0...   \n",
       "512  [0.006105000153183937, 0.030420974449882253, 0...   \n",
       "513  [0.006105000153183937, 0.030420974449882253, 0...   \n",
       "\n",
       "                                       NSIGMA_CONTRAST  \n",
       "0    [0.07546933740377426, 0.07712596848056678, 0.0...  \n",
       "1    [0.024168867617845535, 0.013727830975673552, 0...  \n",
       "2    [0.01883835159242153, 0.008466474323989774, 0....  \n",
       "3    [0.13829022645950317, 0.12528548200099757, 0.0...  \n",
       "4    [0.13829022645950317, 0.12528548200099757, 0.0...  \n",
       "..                                                 ...  \n",
       "509  [0.021788790822029114, 0.01076361939993451, 0....  \n",
       "510  [0.011126062832772732, 0.0070464837691727195, ...  \n",
       "511  [0.030811656266450882, 0.007723410447323252, 0...  \n",
       "512  [0.011241959407925606, 0.0068635571590479495, ...  \n",
       "513  [0.021206237375736237, 0.013890327762039571, 0...  \n",
       "\n",
       "[514 rows x 6 columns]"
      ]
     },
     "execution_count": 2,
     "metadata": {},
     "output_type": "execute_result"
    }
   ],
   "source": [
    "df = get_df_with_headers(path_db, ['ESO OBS ID', 'DATE-OBS', 'OBJECT'], interpolate=True, compute_summary=False, write_headers=False, compute_plots=False, max_sep=10)\n",
    "df"
   ]
  },
  {
   "cell_type": "code",
   "execution_count": 3,
   "metadata": {},
   "outputs": [
    {
     "name": "stdout",
     "output_type": "stream",
     "text": [
      "folder             object\n",
      "ESO OBS ID          int64\n",
      "DATE-OBS           object\n",
      "OBJECT             object\n",
      "SEPARATION         object\n",
      "NSIGMA_CONTRAST    object\n",
      "dtype: object\n"
     ]
    }
   ],
   "source": [
    "# Print the types of the columns\n",
    "print(df.dtypes)"
   ]
  },
  {
   "cell_type": "code",
   "execution_count": 4,
   "metadata": {},
   "outputs": [
    {
     "name": "stdout",
     "output_type": "stream",
     "text": [
      "412\n"
     ]
    }
   ],
   "source": [
    "# Print the length of the separation vector\n",
    "print(len(df['SEPARATION'][0]))"
   ]
  },
  {
   "cell_type": "code",
   "execution_count": 5,
   "metadata": {},
   "outputs": [
    {
     "data": {
      "image/png": "[encoded data removed]",
      "text/plain": [
       "<Figure size 432x288 with 1 Axes>"
      ]
     },
     "metadata": {},
     "output_type": "display_data"
    }
   ],
   "source": [
    "plot_contrast_curves_summary(path_db, df)"
   ]
  }
 ],
 "metadata": {
  "kernelspec": {
   "display_name": "Python 3.9.0 64-bit",
   "language": "python",
   "name": "python3"
  },
  "language_info": {
   "codemirror_mode": {
    "name": "ipython",
    "version": 3
   },
   "file_extension": ".py",
   "mimetype": "text/x-python",
   "name": "python",
   "nbconvert_exporter": "python",
   "pygments_lexer": "ipython3",
   "version": "3.9.0"
  },
  "orig_nbformat": 4,
  "vscode": {
   "interpreter": {
    "hash": "81794d4967e6c3204c66dcd87b604927b115b27c00565d3d43f05ba2f3a2cb0d"
   }
  }
 },
 "nbformat": 4,
 "nbformat_minor": 2
}
