{
 "cells": [
  {
   "cell_type": "markdown",
   "metadata": {},
   "source": [
    "# Database creation\n",
    "This file is used to play with the data and once the objective is reached, functions will be written in .py files in order to be used by the model part of the project."
   ]
  },
  {
   "cell_type": "code",
   "execution_count": 4,
   "metadata": {},
   "outputs": [
    {
     "name": "stdout",
     "output_type": "stream",
     "text": [
      "(numpy.record, [('TARGET_NAME', 'S3'), ('LAM', 'S10'), ('PIXSCALE', 'S10'), ('NSIGMA', 'S3'), ('REPERTORY', 'S55'), ('SEPARATION', '>f4', (1148,)), ('NSIGMA_CONTRAST', '>f4', (1148,))])\n",
      "2014-10-08T05:51:18.0343\n",
      "['FS4' 'FS4' 'FS4']\n"
     ]
    }
   ],
   "source": [
    "from astropy.io import fits\n",
    "from tabulate import tabulate\n",
    "import pandas as pd\n",
    "import numpy as np\n",
    "import matplotlib.pyplot as plt\n",
    "\n",
    "from dataset_creation_utils import *\n",
    "# Retrieve the contrast curves from the database\n",
    "path_db = 'C:/Users/ludin/Documents/Master Thesis/Dataset_creation/SPHERE_DC_DATA/'\n",
    "foldername = '2MASS J01543773+0043005_DB_H23_2014-10-07_ird_specal_dc_cADI_softsorting_200967/'\n",
    "filename = 'ird_specal_dc-IRD_SPECAL_CONTRAST_CURVE_TABLE-contrast_curve_tab.fits'\n",
    "\n",
    "if not os.path.exists(path_db):\n",
    "    print('ERROR! Folder {} does not exist.'.format(path_db)) # exit doesn't print anything in jupyter notebook\n",
    "\n",
    "if not os.path.exists(os.path.join(path_db, foldername)):\n",
    "    print('ERROR! Folder {} does not exist.'.format(foldername))\n",
    "\n",
    "if not os.path.exists(os.path.join(path_db, foldername, filename)):\n",
    "    print('ERROR! File {} does not exist.'.format(filename))\n",
    "\n",
    "with fits.open(os.path.join(path_db, foldername, filename)) as hdul:\n",
    "    data = hdul[1].data #numpy record\n",
    "    print(data.dtype)\n",
    "    print(hdul[1].header['DATE-OBS'])\n",
    "    print(hdul[1].data['TARGET_NAME'])\n"
   ]
  },
  {
   "cell_type": "code",
   "execution_count": 2,
   "metadata": {},
   "outputs": [],
   "source": [
    "df = get_df_with_headers(path_db, ['ESO OBS ID', 'DATE-OBS', 'OBJECT'])"
   ]
  },
  {
   "cell_type": "code",
   "execution_count": 3,
   "metadata": {},
   "outputs": [
    {
     "name": "stdout",
     "output_type": "stream",
     "text": [
      "ESO OBS ID          int64\n",
      "DATE-OBS           object\n",
      "OBJECT             object\n",
      "SEPARATION         object\n",
      "NSIGMA_CONTRAST    object\n",
      "dtype: object\n"
     ]
    }
   ],
   "source": [
    "# Print the types of the columns\n",
    "print(df.dtypes)"
   ]
  },
  {
   "cell_type": "code",
   "execution_count": 4,
   "metadata": {},
   "outputs": [
    {
     "name": "stdout",
     "output_type": "stream",
     "text": [
      "name_exists = False\n"
     ]
    }
   ],
   "source": [
    "write_stats_in_file(df, path_db)"
   ]
  },
  {
   "cell_type": "code",
   "execution_count": 79,
   "metadata": {},
   "outputs": [],
   "source": [
    "def plot_contrast_curves(df, path):\n",
    "    \"\"\"\n",
    "    Plot the contrast curves.\n",
    "    \"\"\"\n",
    "\n",
    "    if not os.path.exists(path):\n",
    "        exit('ERROR! Folder {} does not exist.'.format(path))\n",
    "\n",
    "    if not path.endswith('/'):\n",
    "        path += '/'\n",
    "\n",
    "    if not os.path.exists(path + 'plots/'):\n",
    "        os.makedirs(path + 'plots/')\n",
    "        \n",
    "    path += 'plots/'\n",
    "\n",
    "    if not ('SEPARATION' in df.keys() and 'NSIGMA_CONTRAST' in df.keys() and 'OBJECT' in df.keys() and 'DATE-OBS' in df.keys(), 'ESO OBS ID' in df.keys()):\n",
    "        exit('ERROR! The dataframe must contain the columns SEPARATION, NSIGMA_CONTRAST, OBJECT, DATE-OBS and ESO OBS ID.')\n",
    "        \n",
    "    # Dataframes are not meant to access elements by index.\n",
    "    df_dict = df.to_dict()\n",
    "\n",
    "    for i in range(len(df_dict['OBJECT'])):\n",
    "        break\n",
    "        # Log transform of the contrast and warning suppression\n",
    "        with np.errstate(divide='ignore' , invalid='ignore'):\n",
    "            contrast = np.log10(df_dict['NSIGMA_CONTRAST'][i][0]) # There are some negative and zero values in the contrast curves, maybe process them before plotting\n",
    "\n",
    "        plt.figure()\n",
    "        plt.plot(df_dict['SEPARATION'][i][0], contrast, label=df_dict['OBJECT'][i])\n",
    "        plt.xlabel('Separation (arcsec)')\n",
    "        plt.ylabel('Contrast (5-sigma)')\n",
    "        plt.title('Contrast curve for {} on {}'.format(df_dict['OBJECT'][i], df_dict['DATE-OBS'][i]))\n",
    "        filename = os.path.join(path, 'contrast_curve_{}.png'.format(df_dict['ESO OBS ID'][i]))\n",
    "        # print('Saving figure {}...'.format(filename))\n",
    "        plt.plot()\n",
    "        plt.savefig(filename)\n",
    "        plt.close()"
   ]
  },
  {
   "cell_type": "code",
   "execution_count": 78,
   "metadata": {},
   "outputs": [
    {
     "name": "stderr",
     "output_type": "stream",
     "text": [
      "C:\\Users\\ludin\\AppData\\Local\\Temp/ipykernel_6648/2029011093.py:41: RuntimeWarning: divide by zero encountered in log10\n",
      "  contrast_curves = np.array([np.log10(df_dict['NSIGMA_CONTRAST'][i][0]) for i in range(len(df_dict['OBJECT']))])\n",
      "C:\\Users\\ludin\\AppData\\Local\\Temp/ipykernel_6648/2029011093.py:41: RuntimeWarning: invalid value encountered in log10\n",
      "  contrast_curves = np.array([np.log10(df_dict['NSIGMA_CONTRAST'][i][0]) for i in range(len(df_dict['OBJECT']))])\n",
      "C:\\Users\\ludin\\AppData\\Local\\Temp/ipykernel_6648/2029011093.py:41: VisibleDeprecationWarning: Creating an ndarray from ragged nested sequences (which is a list-or-tuple of lists-or-tuples-or ndarrays with different lengths or shapes) is deprecated. If you meant to do this, you must specify 'dtype=object' when creating the ndarray.\n",
      "  contrast_curves = np.array([np.log10(df_dict['NSIGMA_CONTRAST'][i][0]) for i in range(len(df_dict['OBJECT']))])\n"
     ]
    }
   ],
   "source": [
    "plot_contrast_curves(df, 'C:/Users/ludin/Documents/Master Thesis/Dataset_creation')"
   ]
  }
 ],
 "metadata": {
  "kernelspec": {
   "display_name": "Python 3.9.0 64-bit",
   "language": "python",
   "name": "python3"
  },
  "language_info": {
   "codemirror_mode": {
    "name": "ipython",
    "version": 3
   },
   "file_extension": ".py",
   "mimetype": "text/x-python",
   "name": "python",
   "nbconvert_exporter": "python",
   "pygments_lexer": "ipython3",
   "version": "3.9.0"
  },
  "orig_nbformat": 4,
  "vscode": {
   "interpreter": {
    "hash": "81794d4967e6c3204c66dcd87b604927b115b27c00565d3d43f05ba2f3a2cb0d"
   }
  }
 },
 "nbformat": 4,
 "nbformat_minor": 2
}
