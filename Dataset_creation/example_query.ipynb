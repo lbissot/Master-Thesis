{
 "cells": [
  {
   "cell_type": "code",
   "execution_count": 1,
   "metadata": {},
   "outputs": [],
   "source": [
    "from astropy.time import Time, TimeDelta\n",
    "# https://github.com/jmilou/sparta\n",
    "import sparta.query_eso_archive as qea\n",
    "import pandas as pd"
   ]
  },
  {
   "cell_type": "code",
   "execution_count": 2,
   "metadata": {},
   "outputs": [
    {
     "name": "stdout",
     "output_type": "stream",
     "text": [
      "Start time is 2018-09-15T04:38:39.070 and stop time is 2018-09-15T04:40:00.000\n"
     ]
    }
   ],
   "source": [
    "start = Time('2018-09-15T04:38:39.07', format='isot', scale='utc')\n",
    "stop = Time('2018-09-15T04:40:00.00', format='isot', scale='utc')\n",
    "print(\"Start time is {} and stop time is {}\".format(start, stop))"
   ]
  },
  {
   "cell_type": "code",
   "execution_count": 3,
   "metadata": {},
   "outputs": [
    {
     "name": "stdout",
     "output_type": "stream",
     "text": [
      "wget -O C:/Users/ludin/Documents/Master Thesis/Dataset_creation/mass_query_2018-09-1_2018-09-1.csv http://archive.eso.org/wdb/wdb/asm/mass_paranal/query?wdbo=csv&start_date=2018-09-15T04:38:39.070..2018-09-15T04:40:00.000&tab_fwhm=1&tab_fwhmerr=0&tab_tau=1&tab_tauerr=0&tab_tet=1&tab_teterr=0&tab_alt=1&tab_alterr=0&tab_fracgl=1&tab_turbfwhm=1&tab_tau0=1&tab_tet0=1&tab_turb_alt=1&tab_turb_speed=1&top=1000000\n",
      "SYSTEM_WGETRC = c:/progra~1/wget/etc/wgetrc\n",
      "syswgetrc = C:\\Program Files (x86)\\GnuWin32/etc/wgetrc\n",
      "--2023-02-20 16:12:59--  http://archive.eso.org/wdb/wdb/asm/mass_paranal/query?wdbo=csv&start_date=2018-09-15T04:38:39.070..2018-09-15T04:40:00.000&tab_fwhm=1&tab_fwhmerr=0&tab_tau=1&tab_tauerr=0&tab_tet=1&tab_teterr=0&tab_alt=1&tab_alterr=0&tab_fracgl=1&tab_turbfwhm=1&tab_tau0=1&tab_tet0=1&tab_turb_alt=1&tab_turb_speed=1&top=1000000\n",
      "Résolution de archive.eso.org... 134.171.46.246\n",
      "Connexion vers archive.eso.org|134.171.46.246|:80...connecté.\n",
      "requête HTTP transmise, en attente de la réponse...200 OK\n",
      "Longueur: non spécifié [text/plain]\n",
      "Saving to: `C:/Users/ludin/Documents/Master Thesis/Dataset_creation/mass_query_2018-09-1_2018-09-1.csv'\n",
      "\n",
      "     0K                                                        5,80K=0,03s\n",
      "\n",
      "2023-02-20 16:12:59 (5,80 KB/s) - « C:/Users/ludin/Documents/Master Thesis/Dataset_creation/mass_query_2018-09-1_2018-09-1.csv » sauvegardé [171]\n",
      "\n",
      "\n",
      "No seeing data available for this time interval\n"
     ]
    }
   ],
   "source": [
    "# Let's query the ESO archive for the seeing\n",
    "path = 'C:/Users/ludin/Documents/Master Thesis/Dataset_creation/'\n",
    "try:\n",
    "    asm_data = qea.query_mass(path, str(start), str(stop))\n",
    "except:\n",
    "    print(\"No seeing data available for this time interval\")"
   ]
  },
  {
   "cell_type": "code",
   "execution_count": 4,
   "metadata": {},
   "outputs": [
    {
     "name": "stdout",
     "output_type": "stream",
     "text": [
      "Start time is 2018-09-15T04:23:39.070 and stop time is 2018-09-15T04:55:00.000\n",
      "wget -O C:/Users/ludin/Documents/Master Thesis/Dataset_creation/mass_query_2018-09-1_2018-09-1.csv http://archive.eso.org/wdb/wdb/asm/mass_paranal/query?wdbo=csv&start_date=2018-09-15T04:23:39.070..2018-09-15T04:55:00.000&tab_fwhm=1&tab_fwhmerr=0&tab_tau=1&tab_tauerr=0&tab_tet=1&tab_teterr=0&tab_alt=1&tab_alterr=0&tab_fracgl=1&tab_turbfwhm=1&tab_tau0=1&tab_tet0=1&tab_turb_alt=1&tab_turb_speed=1&top=1000000\n",
      "SYSTEM_WGETRC = c:/progra~1/wget/etc/wgetrc\n",
      "syswgetrc = C:\\Program Files (x86)\\GnuWin32/etc/wgetrc\n",
      "--2023-02-20 16:12:59--  http://archive.eso.org/wdb/wdb/asm/mass_paranal/query?wdbo=csv&start_date=2018-09-15T04:23:39.070..2018-09-15T04:55:00.000&tab_fwhm=1&tab_fwhmerr=0&tab_tau=1&tab_tauerr=0&tab_tet=1&tab_teterr=0&tab_alt=1&tab_alterr=0&tab_fracgl=1&tab_turbfwhm=1&tab_tau0=1&tab_tet0=1&tab_turb_alt=1&tab_turb_speed=1&top=1000000\n",
      "Résolution de archive.eso.org... 134.171.46.246\n",
      "Connexion vers archive.eso.org|134.171.46.246|:80...connecté.\n",
      "requête HTTP transmise, en attente de la réponse...200 OK\n",
      "Longueur: non spécifié [text/plain]\n",
      "Saving to: `C:/Users/ludin/Documents/Master Thesis/Dataset_creation/mass_query_2018-09-1_2018-09-1.csv'\n",
      "\n",
      "     0K                                                        5,22M=0s\n",
      "\n",
      "2023-02-20 16:12:59 (5,22 MB/s) - « C:/Users/ludin/Documents/Master Thesis/Dataset_creation/mass_query_2018-09-1_2018-09-1.csv » sauvegardé [888]\n",
      "\n",
      "\n"
     ]
    }
   ],
   "source": [
    "new_start = start - TimeDelta(900, format='sec')\n",
    "new_stop = stop + TimeDelta(900, format='sec')\n",
    "print(\"Start time is {} and stop time is {}\".format(new_start, new_stop))\n",
    "\n",
    "# Let's query the ESO archive for the seeing\n",
    "path = 'C:/Users/ludin/Documents/Master Thesis/Dataset_creation/'\n",
    "try:\n",
    "    asm_data = qea.query_mass(path, str(new_start), str(new_stop))\n",
    "except:\n",
    "    print(\"No seeing data available for this time interval\")\n"
   ]
  },
  {
   "cell_type": "code",
   "execution_count": 5,
   "metadata": {},
   "outputs": [
    {
     "data": {
      "text/html": [
       "<div>\n",
       "<style scoped>\n",
       "    .dataframe tbody tr th:only-of-type {\n",
       "        vertical-align: middle;\n",
       "    }\n",
       "\n",
       "    .dataframe tbody tr th {\n",
       "        vertical-align: top;\n",
       "    }\n",
       "\n",
       "    .dataframe thead th {\n",
       "        text-align: right;\n",
       "    }\n",
       "</style>\n",
       "<table border=\"1\" class=\"dataframe\">\n",
       "  <thead>\n",
       "    <tr style=\"text-align: right;\">\n",
       "      <th></th>\n",
       "      <th>MASS-DIMM Seeing [\"]</th>\n",
       "    </tr>\n",
       "    <tr>\n",
       "      <th>Date time</th>\n",
       "      <th></th>\n",
       "    </tr>\n",
       "  </thead>\n",
       "  <tbody>\n",
       "    <tr>\n",
       "      <th>2018-09-15 04:28:12</th>\n",
       "      <td>1.10</td>\n",
       "    </tr>\n",
       "    <tr>\n",
       "      <th>2018-09-15 04:36:37</th>\n",
       "      <td>0.98</td>\n",
       "    </tr>\n",
       "    <tr>\n",
       "      <th>2018-09-15 04:40:05</th>\n",
       "      <td>0.92</td>\n",
       "    </tr>\n",
       "    <tr>\n",
       "      <th>2018-09-15 04:43:37</th>\n",
       "      <td>1.15</td>\n",
       "    </tr>\n",
       "    <tr>\n",
       "      <th>2018-09-15 04:46:57</th>\n",
       "      <td>0.80</td>\n",
       "    </tr>\n",
       "    <tr>\n",
       "      <th>2018-09-15 04:49:53</th>\n",
       "      <td>1.27</td>\n",
       "    </tr>\n",
       "    <tr>\n",
       "      <th>2018-09-15 04:53:14</th>\n",
       "      <td>1.04</td>\n",
       "    </tr>\n",
       "  </tbody>\n",
       "</table>\n",
       "</div>"
      ],
      "text/plain": [
       "                     MASS-DIMM Seeing [\"]\n",
       "Date time                                \n",
       "2018-09-15 04:28:12                  1.10\n",
       "2018-09-15 04:36:37                  0.98\n",
       "2018-09-15 04:40:05                  0.92\n",
       "2018-09-15 04:43:37                  1.15\n",
       "2018-09-15 04:46:57                  0.80\n",
       "2018-09-15 04:49:53                  1.27\n",
       "2018-09-15 04:53:14                  1.04"
      ]
     },
     "execution_count": 5,
     "metadata": {},
     "output_type": "execute_result"
    }
   ],
   "source": [
    "seeing = pd.DataFrame(asm_data['MASS-DIMM Seeing [\"]'])\n",
    "coherence_time = pd.DataFrame(asm_data['MASS-DIMM Tau0 [s]'])\n",
    "        \n",
    "seeing"
   ]
  }
 ],
 "metadata": {
  "kernelspec": {
   "display_name": "Python 3",
   "language": "python",
   "name": "python3"
  },
  "language_info": {
   "codemirror_mode": {
    "name": "ipython",
    "version": 3
   },
   "file_extension": ".py",
   "mimetype": "text/x-python",
   "name": "python",
   "nbconvert_exporter": "python",
   "pygments_lexer": "ipython3",
   "version": "3.9.0"
  },
  "orig_nbformat": 4,
  "vscode": {
   "interpreter": {
    "hash": "81794d4967e6c3204c66dcd87b604927b115b27c00565d3d43f05ba2f3a2cb0d"
   }
  }
 },
 "nbformat": 4,
 "nbformat_minor": 2
}
